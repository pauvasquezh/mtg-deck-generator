{
 "cells": [
  {
   "cell_type": "markdown",
   "metadata": {},
   "source": [
    "# Scraping MTG Cards\n"
   ]
  },
  {
   "cell_type": "markdown",
   "metadata": {},
   "source": [
    "For this project, I will be scraping the information available on the Card Kingdom website regarding Magic the Gathering cards."
   ]
  },
  {
   "cell_type": "code",
   "execution_count": 1,
   "metadata": {},
   "outputs": [],
   "source": [
    "from bs4 import BeautifulSoup as bs\n",
    "from selenium import webdriver\n",
    "import re\n",
    "import time\n",
    "import pandas as pd\n",
    "import mtgutilities as mtgu\n",
    "import json"
   ]
  },
  {
   "cell_type": "code",
   "execution_count": 2,
   "metadata": {},
   "outputs": [],
   "source": [
    "with open('config.json', 'r') as config_file:\n",
    "    contents = json.loads(config_file.read())"
   ]
  },
  {
   "cell_type": "markdown",
   "metadata": {},
   "source": [
    "### Getting all of the expansion URLs"
   ]
  },
  {
   "cell_type": "code",
   "execution_count": 14,
   "metadata": {},
   "outputs": [],
   "source": [
    "soup = mtgu.get_soup_from_website(\"https://www.cardkingdom.com/catalog/magic_the_gathering/by_az\")\n",
    "expansions = dict()\n",
    "for a in soup.find_all('a', href=True):\n",
    "        urls = dict()\n",
    "        if 'mtg/' in a['href'] and 'art-series' not in a['href'] and 'graded-magic' \\\n",
    "        not in a['href'] and 'complete-sets' not in a['href'] and 'commander-deck' not in a['href'] \\\n",
    "        and 'card-kingdom-tokens' not in a['href'] and 'variants' not in a['href'] \\\n",
    "        and 'starter-kits' not in a['href']:\n",
    "            urls[\"url\"] = f\"https://www.cardkingdom.com{a['href']}?page=1\"\n",
    "            expansions[a.string.replace(' ', '-').lower()] = urls"
   ]
  },
  {
   "cell_type": "code",
   "execution_count": 3,
   "metadata": {},
   "outputs": [],
   "source": [
    "expansions = {'3rd-edition': {'url': 'https://www.cardkingdom.com/mtg/3rd-edition'}}"
   ]
  },
  {
   "cell_type": "code",
   "execution_count": 5,
   "metadata": {},
   "outputs": [],
   "source": [
    "for expansion_key, expansion_values in expansions.items():\n",
    "    # Obtaining number of pages to scrape per expansion\n",
    "    soup = mtgu.get_soup_from_website(expansion_values.get(\"url\"))\n",
    "    max_pages = mtgu.get_max_pages(soup)\n",
    "\n",
    "    # Scraping page by page\n",
    "    driver_pages = webdriver.Chrome(contents[\"chrome-driver-location\"])\n",
    "    card_names, card_costs, card_converted_costs, card_type, card_urls, card_rarity = list(), list(), list(), list(), list(), list()\n",
    "\n",
    "    for i in range(1,3):\n",
    "            driver_pages.get(f\"{expansion_values.get('url')}/?page={str(i)}\")\n",
    "            soup_pages = bs(driver_pages.page_source, 'html.parser')\n",
    "            \n",
    "            # Getting card URLs\n",
    "            card_urls += mtgu.get_card_urls(soup_pages, expansion_key)\n",
    "            # Getting card names\n",
    "            card_names += mtgu.get_card_names(soup_pages, expansion_key)\n",
    "            # Getting mana costs\n",
    "            card_costs += mtgu.get_mana_cost(soup_pages)\n",
    "            # Getting converted mana cost\n",
    "            card_converted_costs = mtgu.get_converted_mana_cost(card_costs)\n",
    "            # Getting card type\n",
    "            card_type += mtgu.get_card_type(soup_pages)\n",
    "            # Getting card rarity\n",
    "            card_rarity += mtgu.get_card_rarity(soup_pages)\n",
    "            # Getting card P/T\n",
    "            card_pt += mtgu.get_card_pt(soup_pages)\n",
    "\n",
    "\n",
    "            \n"
   ]
  },
  {
   "cell_type": "code",
   "execution_count": null,
   "metadata": {},
   "outputs": [],
   "source": []
  }
 ],
 "metadata": {
  "kernelspec": {
   "display_name": "Python 3.8.8 ('base')",
   "language": "python",
   "name": "python3"
  },
  "language_info": {
   "codemirror_mode": {
    "name": "ipython",
    "version": 3
   },
   "file_extension": ".py",
   "mimetype": "text/x-python",
   "name": "python",
   "nbconvert_exporter": "python",
   "pygments_lexer": "ipython3",
   "version": "3.8.8"
  },
  "orig_nbformat": 4,
  "vscode": {
   "interpreter": {
    "hash": "fa0c9299ea180296e339c61dd5ded3754ff1e476a52038d0920d845bb875455d"
   }
  }
 },
 "nbformat": 4,
 "nbformat_minor": 2
}
