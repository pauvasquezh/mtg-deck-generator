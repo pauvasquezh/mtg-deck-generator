{
 "cells": [
  {
   "cell_type": "markdown",
   "metadata": {},
   "source": [
    "# Scraping Cardkingdom"
   ]
  },
  {
   "cell_type": "code",
   "execution_count": 20,
   "metadata": {},
   "outputs": [],
   "source": [
    "from bs4 import BeautifulSoup as bs\n",
    "from selenium import webdriver\n",
    "import re\n",
    "import time"
   ]
  },
  {
   "cell_type": "code",
   "execution_count": 24,
   "metadata": {},
   "outputs": [
    {
     "name": "stderr",
     "output_type": "stream",
     "text": [
      "/var/folders/7w/xzkgqf0s4_33clkpfvlf57_c0000gn/T/ipykernel_79725/1338617391.py:1: DeprecationWarning: executable_path has been deprecated, please pass in a Service object\n",
      "  driver = webdriver.Chrome(r\"/Users/pauvasquezh/mtg-deck-generator/mtg-deck-generator/chromedriver\")\n"
     ]
    }
   ],
   "source": [
    "driver = webdriver.Chrome(r\"/Users/pauvasquezh/mtg-deck-generator/mtg-deck-generator/chromedriver\")\n",
    "driver.get('https://www.cardkingdom.com/catalog/magic_the_gathering/by_az')\n",
    "a = driver.page_source\n",
    "soup = bs(a)"
   ]
  },
  {
   "cell_type": "code",
   "execution_count": 26,
   "metadata": {},
   "outputs": [],
   "source": [
    "with open('urls.txt', 'w') as f:\n",
    "    for a in soup.find_all('a', href=True):\n",
    "        if 'mtg/' in a['href'] and 'art-series' not in a['href']:\n",
    "            f.write(a['href'])\n",
    "            f.write('\\n')\n",
    "        "
   ]
  },
  {
   "cell_type": "code",
   "execution_count": 27,
   "metadata": {},
   "outputs": [
    {
     "name": "stderr",
     "output_type": "stream",
     "text": [
      "/var/folders/7w/xzkgqf0s4_33clkpfvlf57_c0000gn/T/ipykernel_79725/2405789459.py:6: DeprecationWarning: executable_path has been deprecated, please pass in a Service object\n",
      "  driver = webdriver.Chrome(r\"/Users/pauvasquezh/mtg-deck-generator/mtg-deck-generator/chromedriver\")\n"
     ]
    },
    {
     "name": "stdout",
     "output_type": "stream",
     "text": [
      "{'url': 'https://www.cardkingdom.com/mtg/3rd-edition', 'max_pages': 13}\n"
     ]
    },
    {
     "ename": "KeyboardInterrupt",
     "evalue": "",
     "output_type": "error",
     "traceback": [
      "\u001b[0;31m---------------------------------------------------------------------------\u001b[0m",
      "\u001b[0;31mKeyboardInterrupt\u001b[0m                         Traceback (most recent call last)",
      "\u001b[1;32m/Users/pauvasquezh/mtg-deck-generator/mtg-deck-generator/Untitled-1.ipynb Cell 5'\u001b[0m in \u001b[0;36m<cell line: 9>\u001b[0;34m()\u001b[0m\n\u001b[1;32m     <a href='vscode-notebook-cell:/Users/pauvasquezh/mtg-deck-generator/mtg-deck-generator/Untitled-1.ipynb#ch0000005?line=39'>40</a>\u001b[0m         \u001b[39mif\u001b[39;00m \u001b[39mf\u001b[39m\u001b[39m\"\u001b[39m\u001b[39m{\u001b[39;00mline[:\u001b[39m-\u001b[39m\u001b[39m1\u001b[39m]\u001b[39m}\u001b[39;00m\u001b[39m/\u001b[39m\u001b[39m\"\u001b[39m \u001b[39min\u001b[39;00m c[\u001b[39m\"\u001b[39m\u001b[39mhref\u001b[39m\u001b[39m\"\u001b[39m]:\n\u001b[1;32m     <a href='vscode-notebook-cell:/Users/pauvasquezh/mtg-deck-generator/mtg-deck-generator/Untitled-1.ipynb#ch0000005?line=40'>41</a>\u001b[0m             card_urls\u001b[39m.\u001b[39madd(c[\u001b[39m\"\u001b[39m\u001b[39mhref\u001b[39m\u001b[39m\"\u001b[39m])\n\u001b[0;32m---> <a href='vscode-notebook-cell:/Users/pauvasquezh/mtg-deck-generator/mtg-deck-generator/Untitled-1.ipynb#ch0000005?line=41'>42</a>\u001b[0m     time\u001b[39m.\u001b[39;49msleep(\u001b[39m3\u001b[39;49m)\n\u001b[1;32m     <a href='vscode-notebook-cell:/Users/pauvasquezh/mtg-deck-generator/mtg-deck-generator/Untitled-1.ipynb#ch0000005?line=42'>43</a>\u001b[0m new_dict[\u001b[39m\"\u001b[39m\u001b[39mcard_urls\u001b[39m\u001b[39m\"\u001b[39m] \u001b[39m=\u001b[39m card_urls\n\u001b[1;32m     <a href='vscode-notebook-cell:/Users/pauvasquezh/mtg-deck-generator/mtg-deck-generator/Untitled-1.ipynb#ch0000005?line=43'>44</a>\u001b[0m expansions[\u001b[39mf\u001b[39m\u001b[39m\"\u001b[39m\u001b[39m{\u001b[39;00mline[\u001b[39m5\u001b[39m:\u001b[39m-\u001b[39m\u001b[39m1\u001b[39m]\u001b[39m}\u001b[39;00m\u001b[39m\"\u001b[39m] \u001b[39m=\u001b[39m new_dict\n",
      "\u001b[0;31mKeyboardInterrupt\u001b[0m: "
     ]
    }
   ],
   "source": [
    "from hashlib import new\n",
    "from nbformat import write\n",
    "\n",
    "# preparing for scraping\n",
    "URL = 'https://www.cardkingdom.com'\n",
    "driver = webdriver.Chrome(r\"/Users/pauvasquezh/mtg-deck-generator/mtg-deck-generator/chromedriver\")\n",
    "expansions = dict()\n",
    "#\n",
    "with open('urls.txt', 'r') as f:\n",
    "    for _ in range(2):\n",
    "        next(f)\n",
    "    for line in f:\n",
    "        new_dict = {}\n",
    "        new_dict[\"url\"] = f\"{URL}{line[:-1]}\"\n",
    "        driver.get(new_dict[\"url\"])\n",
    "        b = driver.page_source\n",
    "        soup = bs(b, 'html.parser')\n",
    "        max_pages = []\n",
    "        for b in soup.find_all('a', href=True):\n",
    "            try:\n",
    "                if \"?page=\" in b['href']:\n",
    "                    match = re.search('\\d{1,3}$', b['href'])\n",
    "                    max_pages.append(int(match.group(0)))\n",
    "            except:\n",
    "                max_pages.append(0)\n",
    "        if len(max_pages) > 1:\n",
    "            new_dict[\"max_pages\"] = max(max_pages)\n",
    "        else:\n",
    "            new_dict[\"max_pages\"] = 0\n",
    "        print(new_dict)\n",
    "        card_urls = set()\n",
    "        for c in soup.find_all('a', href=True):\n",
    "            if f\"{line}/\" in c[\"href\"]:\n",
    "                card_urls.add(c[\"href\"])\n",
    "        for i in range(2,new_dict[\"max_pages\"]+1):\n",
    "            driver.get(new_dict[\"url\"]+\"/?page=\"+str(i))\n",
    "            c = driver.page_source\n",
    "            soup = bs(c, 'html.parser')\n",
    "            for c in soup.find_all('a', href=True):\n",
    "                if f\"{line[:-1]}/\" in c[\"href\"]:\n",
    "                    card_urls.add(c[\"href\"])\n",
    "            time.sleep(3)\n",
    "        new_dict[\"card_urls\"] = card_urls\n",
    "        expansions[f\"{line[5:-1]}\"] = new_dict\n",
    "        with open(f\"expansion_cards/{line[5:-1]}-cards.txt\", \"w\") as g:\n",
    "            for element in card_urls:\n",
    "                g.write(element)\n",
    "                g.write(\"\\n\")\n",
    "        time.sleep(3)\n",
    "        "
   ]
  },
  {
   "cell_type": "code",
   "execution_count": null,
   "metadata": {},
   "outputs": [],
   "source": [
    "match = re.search('\\d{1,3}$', 'https://www.cardkingdom.com/mtg/adventures-in-the-forgotten-realms-commander-decks?page=12')"
   ]
  },
  {
   "cell_type": "code",
   "execution_count": null,
   "metadata": {},
   "outputs": [
    {
     "name": "stdout",
     "output_type": "stream",
     "text": [
      "<re.Match object; span=(88, 90), match='12'>\n"
     ]
    }
   ],
   "source": [
    "print(match)"
   ]
  },
  {
   "cell_type": "code",
   "execution_count": null,
   "metadata": {},
   "outputs": [],
   "source": []
  }
 ],
 "metadata": {
  "kernelspec": {
   "display_name": "Python 3.10.4 ('mtg-project')",
   "language": "python",
   "name": "python3"
  },
  "language_info": {
   "codemirror_mode": {
    "name": "ipython",
    "version": 3
   },
   "file_extension": ".py",
   "mimetype": "text/x-python",
   "name": "python",
   "nbconvert_exporter": "python",
   "pygments_lexer": "ipython3",
   "version": "3.10.4"
  },
  "orig_nbformat": 4,
  "vscode": {
   "interpreter": {
    "hash": "a6c00453f0612a5ec5286a7627e92deb09dd193b4a8057160f031c63aaed88e3"
   }
  }
 },
 "nbformat": 4,
 "nbformat_minor": 2
}
