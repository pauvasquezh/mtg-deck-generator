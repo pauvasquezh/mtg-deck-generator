{
 "cells": [
  {
   "cell_type": "markdown",
   "metadata": {},
   "source": [
    "# Scraping Cardkingdom"
   ]
  },
  {
   "cell_type": "code",
   "execution_count": 1,
   "metadata": {},
   "outputs": [],
   "source": [
    "from bs4 import BeautifulSoup as bs\n",
    "from selenium import webdriver\n",
    "import re\n",
    "import time"
   ]
  },
  {
   "cell_type": "code",
   "execution_count": 3,
   "metadata": {},
   "outputs": [
    {
     "name": "stderr",
     "output_type": "stream",
     "text": [
      "/var/folders/7w/xzkgqf0s4_33clkpfvlf57_c0000gn/T/ipykernel_30797/2096111224.py:1: DeprecationWarning: executable_path has been deprecated, please pass in a Service object\n",
      "  driver = webdriver.Chrome(r\"/Users/pauvasquezh/mtg-deck-generator/chromedriver\")\n"
     ]
    }
   ],
   "source": [
    "driver = webdriver.Chrome(r\"/Users/pauvasquezh/mtg-deck-generator/chromedriver\")\n",
    "driver.get('https://www.cardkingdom.com/catalog/magic_the_gathering/by_az')\n",
    "a = driver.page_source\n",
    "soup = bs(a)"
   ]
  },
  {
   "cell_type": "code",
   "execution_count": 26,
   "metadata": {},
   "outputs": [],
   "source": [
    "with open('urls.txt', 'w') as f:\n",
    "    for a in soup.find_all('a', href=True):\n",
    "        if 'mtg/' in a['href'] and 'art-series' not in a['href']:\n",
    "            f.write(a['href'])\n",
    "            f.write('\\n')\n",
    "        "
   ]
  },
  {
   "cell_type": "code",
   "execution_count": 76,
   "metadata": {},
   "outputs": [],
   "source": [
    "def get_alt_text(_class):\n",
    "        alt_list =[]\n",
    "        for d in soup.find_all('div', {'class' : _class}):\n",
    "                element = [img[\"alt\"] for img in d.find_all('img', alt=True)]\n",
    "                alt_list.append(element)\n",
    "        return alt_list\n",
    "\n",
    "def get_card_type(_class):\n",
    "        type_list = []\n",
    "        strength_list = []\n",
    "        for d in soup.find_all('div', {'class' : _class}):\n",
    "                element = d.text[1:-1]\n",
    "                if \"Creature\" in element:\n",
    "                        subelement = re.search('(?<=\\s).*', element).group(0)\n",
    "                        type_list.append(subelement)\n",
    "                else:\n",
    "                        type_list.append(element)\n",
    "        return type_list\n",
    "\n",
    "def get_card_strength(_class):\n",
    "        type_list = []\n",
    "        strength_list = []\n",
    "        for d in soup.find_all('div', {'class' : _class}):\n",
    "                element = d.text[1:-1]\n",
    "                if \"Creature\" in element:\n",
    "                        subelement2 = re.search('^\\S*', element).group(0)\n",
    "                        strength_list.append(subelement2)\n",
    "                else:\n",
    "                        strength_list.append(\"\")\n",
    "        return strength_list\n",
    "\n",
    "def get_card_text():\n",
    "        for d in soup.find_all('tr', {'class' : \"detailFlavortext\"}):\n",
    "                element = [img[\"alt\"] for img in d.find_all('img', alt=True)]\n",
    "        return text_list"
   ]
  },
  {
   "cell_type": "code",
   "execution_count": 97,
   "metadata": {},
   "outputs": [
    {
     "name": "stderr",
     "output_type": "stream",
     "text": [
      "/var/folders/7w/xzkgqf0s4_33clkpfvlf57_c0000gn/T/ipykernel_30797/1986959915.py:3: DeprecationWarning: executable_path has been deprecated, please pass in a Service object\n",
      "  driver = webdriver.Chrome(r\"/Users/pauvasquezh/mtg-deck-generator/chromedriver\")\n"
     ]
    },
    {
     "name": "stdout",
     "output_type": "stream",
     "text": [
      "{'url': 'https://www.cardkingdom.com/mtg/3rd-edition', 'max_pages': 13}\n"
     ]
    }
   ],
   "source": [
    "# preparing for scraping\n",
    "URL = 'https://www.cardkingdom.com'\n",
    "driver = webdriver.Chrome(r\"/Users/pauvasquezh/mtg-deck-generator/chromedriver\")\n",
    "expansions = dict()\n",
    "#\n",
    "with open('urls.txt', 'r') as f:\n",
    "    for _ in range(2):\n",
    "        next(f)\n",
    "    for line in f:\n",
    "        new_dict = {}\n",
    "        new_dict[\"url\"] = f\"{URL}{line}\"\n",
    "        driver.get(f\"{URL}{line}\")\n",
    "        b = driver.page_source\n",
    "        soup = bs(b, 'html.parser')\n",
    "        max_pages = []\n",
    "        for b in soup.find_all('a', href=True):\n",
    "            try:\n",
    "                if \"?page=\" in b['href']:\n",
    "                    match = re.search('\\d{1,3}$', b['href'])\n",
    "                    max_pages.append(int(match.group(0)))\n",
    "            except:\n",
    "                max_pages.append(0)\n",
    "        if len(max_pages) > 1:\n",
    "            new_dict[\"max_pages\"] = max(max_pages)\n",
    "        else:\n",
    "            new_dict[\"max_pages\"] = 0\n",
    "        print(new_dict)\n",
    "        card_urls = list()\n",
    "        card_names = list()\n",
    "        card_names2 = list()\n",
    "        for c in soup.find_all('a', href=True):\n",
    "            if f\"{line}/\" in c[\"href\"]:\n",
    "                card_id = re.search('([^\\/]+$)', c[\"href\"]).group(0)\n",
    "                card_urls.append(c[\"href\"])\n",
    "                card_names.append(c.string)\n",
    "        card_names = [i for i in card_names if i][4:]\n",
    "        card_costs = get_alt_text(\"productDetailCastCost\")\n",
    "        card_type = get_card_type(\"productDetailType\")\n",
    "        card_strength = get_card_strength(\"productDetailType\")\n",
    "        for i in range(2,3): #new_dict[\"max_pages\"]+1\n",
    "            driver.get(f\"{URL}{line}/?page={str(i)}\")\n",
    "            c = driver.page_source\n",
    "            soup = bs(c, 'html.parser')\n",
    "            for c in soup.find_all('a', href=True):\n",
    "                if f\"{line}/\" in c[\"href\"]:\n",
    "                    card_id = re.search('([^\\/]+$)', c[\"href\"]).group(0)\n",
    "                    card_urls.append(c[\"href\"])\n",
    "                    card_names2.append(c.string)\n",
    "            time.sleep(3)\n",
    "            \n",
    "        card_names2 = [i for i in card_names2 if i][4:]\n",
    "        card_names = card_names + card_names2\n",
    "        card_costs = card_costs + get_alt_text(\"productDetailCastCost\")\n",
    "        card_type = card_type + get_card_type(\"productDetailType\")\n",
    "        card_strength = card_strength + get_card_strength(\"productDetailType\")\n",
    "            \n",
    "        new_dict[\"card_data\"] = card_data\n",
    "        expansions[f\"{line[5:]}\"] = new_dict\n",
    "        with open(f\"expansion_cards/{line[5:-1]}-cards.txt\", \"w\") as g:\n",
    "            for element in card_urls:\n",
    "                g.write(element)\n",
    "                g.write(\"\\n\")\n",
    "        time.sleep(3)\n",
    "        "
   ]
  },
  {
   "cell_type": "code",
   "execution_count": 98,
   "metadata": {},
   "outputs": [
    {
     "data": {
      "text/plain": [
       "50"
      ]
     },
     "execution_count": 98,
     "metadata": {},
     "output_type": "execute_result"
    }
   ],
   "source": [
    "len(card_names)"
   ]
  },
  {
   "cell_type": "code",
   "execution_count": 99,
   "metadata": {},
   "outputs": [
    {
     "data": {
      "text/plain": [
       "['Volcanic Island',\n",
       " 'Underground Sea',\n",
       " 'Tundra',\n",
       " 'Savannah',\n",
       " 'Tropical Island',\n",
       " 'Wheel of Fortune',\n",
       " 'Badlands',\n",
       " 'Taiga',\n",
       " 'Bayou',\n",
       " 'Scrubland',\n",
       " 'Plateau',\n",
       " 'Demonic Tutor',\n",
       " 'Copy Artifact',\n",
       " 'Mana Vault',\n",
       " 'Sol Ring',\n",
       " 'Red Elemental Blast',\n",
       " 'Fork',\n",
       " 'Braingeyser',\n",
       " 'Birds of Paradise',\n",
       " 'Animate Dead',\n",
       " 'Swords to Plowshares',\n",
       " 'Lightning Bolt',\n",
       " 'Vesuvan Doppelganger',\n",
       " 'Fastbond',\n",
       " 'Meekstone',\n",
       " 'Winter Orb',\n",
       " 'Zombie Master',\n",
       " 'Counterspell',\n",
       " 'Basalt Monolith',\n",
       " \"Hurkyl's Recall\",\n",
       " 'Stasis',\n",
       " 'Sacrifice',\n",
       " 'Howling Mine',\n",
       " 'Dark Ritual',\n",
       " \"Nevinyrral's Disk\",\n",
       " 'Lord of Atlantis',\n",
       " 'Shivan Dragon',\n",
       " 'Hypnotic Specter',\n",
       " 'Verduran Enchantress',\n",
       " 'Savannah Lions',\n",
       " 'Goblin King',\n",
       " 'Mana Flare',\n",
       " 'Serra Angel',\n",
       " 'Library of Leng',\n",
       " 'Mind Twist',\n",
       " 'Wild Growth',\n",
       " 'Armageddon',\n",
       " 'Ankh of Mishra',\n",
       " 'Sedge Troll',\n",
       " 'Wrath of God']"
      ]
     },
     "execution_count": 99,
     "metadata": {},
     "output_type": "execute_result"
    }
   ],
   "source": [
    "card_names"
   ]
  },
  {
   "cell_type": "code",
   "execution_count": 15,
   "metadata": {},
   "outputs": [
    {
     "data": {
      "text/plain": [
       "['/mtg/3rd-edition/singles',\n",
       " '/mtg/3rd-edition/lightning-bolt',\n",
       " '/mtg/3rd-edition/bayou',\n",
       " '/mtg/3rd-edition/tundra',\n",
       " '/mtg/3rd-edition/sealed',\n",
       " '/mtg/3rd-edition/volcanic-island',\n",
       " '/mtg/3rd-edition/sol-ring',\n",
       " '/mtg/3rd-edition/tropical-island',\n",
       " '/mtg/3rd-edition/badlands',\n",
       " '/mtg/3rd-edition/braingeyser',\n",
       " '/mtg/3rd-edition/taiga',\n",
       " '/mtg/3rd-edition/fastbond',\n",
       " '/mtg/3rd-edition/scrubland',\n",
       " '/mtg/3rd-edition/copy-artifact',\n",
       " '/mtg/3rd-edition/underground-sea',\n",
       " '/mtg/3rd-edition/red-elemental-blast',\n",
       " '/mtg/3rd-edition/savannah',\n",
       " '/mtg/3rd-edition/plateau',\n",
       " '/mtg/3rd-edition/vesuvan-doppelganger',\n",
       " '/mtg/3rd-edition/foils',\n",
       " '/mtg/3rd-edition/about',\n",
       " '/mtg/3rd-edition/birds-of-paradise',\n",
       " '/mtg/3rd-edition/fork',\n",
       " '/mtg/3rd-edition/meekstone',\n",
       " '/mtg/3rd-edition/animate-dead',\n",
       " '/mtg/3rd-edition/wheel-of-fortune',\n",
       " '/mtg/3rd-edition/demonic-tutor',\n",
       " '/mtg/3rd-edition/mana-vault',\n",
       " '/mtg/3rd-edition/swords-to-plowshares']"
      ]
     },
     "execution_count": 15,
     "metadata": {},
     "output_type": "execute_result"
    }
   ],
   "source": [
    "list(card_urls)"
   ]
  },
  {
   "cell_type": "code",
   "execution_count": 19,
   "metadata": {},
   "outputs": [
    {
     "data": {
      "text/plain": [
       "{}"
      ]
     },
     "execution_count": 19,
     "metadata": {},
     "output_type": "execute_result"
    }
   ],
   "source": [
    "card_data"
   ]
  },
  {
   "cell_type": "code",
   "execution_count": null,
   "metadata": {},
   "outputs": [],
   "source": []
  }
 ],
 "metadata": {
  "kernelspec": {
   "display_name": "Python 3.10.4 ('mtg-project')",
   "language": "python",
   "name": "python3"
  },
  "language_info": {
   "codemirror_mode": {
    "name": "ipython",
    "version": 3
   },
   "file_extension": ".py",
   "mimetype": "text/x-python",
   "name": "python",
   "nbconvert_exporter": "python",
   "pygments_lexer": "ipython3",
   "version": "3.10.4"
  },
  "orig_nbformat": 4,
  "vscode": {
   "interpreter": {
    "hash": "a6c00453f0612a5ec5286a7627e92deb09dd193b4a8057160f031c63aaed88e3"
   }
  }
 },
 "nbformat": 4,
 "nbformat_minor": 2
}
