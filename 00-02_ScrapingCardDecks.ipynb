{
 "cells": [
  {
   "cell_type": "markdown",
   "metadata": {},
   "source": [
    "# Part I: Scraping MTG Card Decks\n"
   ]
  },
  {
   "cell_type": "markdown",
   "metadata": {},
   "source": [
    "I will be scraping built decks from EDHRec."
   ]
  },
  {
   "cell_type": "code",
   "execution_count": 1,
   "metadata": {},
   "outputs": [],
   "source": [
    "from bs4 import BeautifulSoup as bs\n",
    "from selenium import webdriver\n",
    "import re\n",
    "import time\n",
    "import pandas as pd\n",
    "import mtgutilities as mtgu\n",
    "import json\n",
    "from selenium.webdriver.common.by import By\n",
    "from selenium.common.exceptions import StaleElementReferenceException\n",
    "from selenium.webdriver.chrome.options import Options\n",
    "import requests"
   ]
  },
  {
   "cell_type": "code",
   "execution_count": 2,
   "metadata": {},
   "outputs": [],
   "source": [
    "with open('config.json', 'r') as config_file:\n",
    "    contents = json.loads(config_file.read())"
   ]
  },
  {
   "cell_type": "markdown",
   "metadata": {},
   "source": [
    "### Getting all of the expansion URLs"
   ]
  },
  {
   "cell_type": "code",
   "execution_count": 3,
   "metadata": {},
   "outputs": [
    {
     "name": "stdout",
     "output_type": "stream",
     "text": [
      "https://edhrec.com/commanders/b\n"
     ]
    },
    {
     "ename": "NameError",
     "evalue": "name 'response' is not defined",
     "output_type": "error",
     "traceback": [
      "\u001b[0;31m---------------------------------------------------------------------------\u001b[0m",
      "\u001b[0;31mNameError\u001b[0m                                 Traceback (most recent call last)",
      "\u001b[1;32m/Users/gatito/mtg-deck-generator/00-02_ScrapingCardDecks.ipynb Cell 6\u001b[0m in \u001b[0;36m<cell line: 6>\u001b[0;34m()\u001b[0m\n\u001b[1;32m     <a href='vscode-notebook-cell:/Users/gatito/mtg-deck-generator/00-02_ScrapingCardDecks.ipynb#ch0000005?line=44'>45</a>\u001b[0m     \u001b[39mif\u001b[39;00m \u001b[39m'\u001b[39m\u001b[39m/deckpreview/\u001b[39m\u001b[39m'\u001b[39m \u001b[39min\u001b[39;00m a[\u001b[39m\"\u001b[39m\u001b[39mhref\u001b[39m\u001b[39m\"\u001b[39m]:\n\u001b[1;32m     <a href='vscode-notebook-cell:/Users/gatito/mtg-deck-generator/00-02_ScrapingCardDecks.ipynb#ch0000005?line=45'>46</a>\u001b[0m         \u001b[39mprint\u001b[39m(a[\u001b[39m'\u001b[39m\u001b[39mhref\u001b[39m\u001b[39m'\u001b[39m])\n\u001b[0;32m---> <a href='vscode-notebook-cell:/Users/gatito/mtg-deck-generator/00-02_ScrapingCardDecks.ipynb#ch0000005?line=46'>47</a>\u001b[0m \u001b[39mif\u001b[39;00m mtgu\u001b[39m.\u001b[39mcheck_exists_by_xpath(response, \u001b[39m\"\u001b[39m\u001b[39m//a[contains(text(), \u001b[39m\u001b[39m'\u001b[39m\u001b[39mNext\u001b[39m\u001b[39m'\u001b[39m\u001b[39m)]\u001b[39m\u001b[39m\"\u001b[39m):\n\u001b[1;32m     <a href='vscode-notebook-cell:/Users/gatito/mtg-deck-generator/00-02_ScrapingCardDecks.ipynb#ch0000005?line=47'>48</a>\u001b[0m     element \u001b[39m=\u001b[39m driver\u001b[39m.\u001b[39mfind_element(By\u001b[39m.\u001b[39mXPATH, \u001b[39m\"\u001b[39m\u001b[39m//a[contains(text(), \u001b[39m\u001b[39m'\u001b[39m\u001b[39mNext\u001b[39m\u001b[39m'\u001b[39m\u001b[39m)]\u001b[39m\u001b[39m\"\u001b[39m)\n\u001b[1;32m     <a href='vscode-notebook-cell:/Users/gatito/mtg-deck-generator/00-02_ScrapingCardDecks.ipynb#ch0000005?line=48'>49</a>\u001b[0m     driver\u001b[39m.\u001b[39mexecute_script(\u001b[39m'\u001b[39m\u001b[39marguments[0].scrollIntoView();\u001b[39m\u001b[39m'\u001b[39m, element)\n",
      "\u001b[0;31mNameError\u001b[0m: name 'response' is not defined"
     ]
    }
   ],
   "source": [
    "COMMANDERS_COLORS_URL = 'https://edhrec.com/commanders/'\n",
    "COMMANDERS_COLORS = ['w', 'u', 'b', 'g', 'r', 'colorless', 'wu', 'ub', 'br', 'rg', 'gw', 'wb', 'ur', 'bg', 'wr', 'gu', 'wub', 'ubr'\\\n",
    "    'brg', 'rgw', 'gwu', 'wbg', 'uwr', 'bgu', 'rwb', 'gur', 'wubr', 'ubrg', 'brgw', 'rgwu', 'gwub', 'wubrg']\n",
    "commanders_color_urls = [f\"{COMMANDERS_COLORS_URL}{commander_color}\" for commander_color in COMMANDERS_COLORS if commander_color=='b']\n",
    "\n",
    "for commander_url in commanders_color_urls:\n",
    "    # Enter each commander color site, click Text View\n",
    "    print(commander_url)\n",
    "    chrome_options = webdriver.ChromeOptions()\n",
    "    opts = Options()\n",
    "    opts.add_argument(\"user-agent=whatever you want\")\n",
    "    opts.add_argument(\"--incognito\")\n",
    "    driver = webdriver.Chrome(contents[\"chrome-driver-location\"], options=opts)\n",
    "    driver.get(commander_url)\n",
    "    mtgu.click_element_in_href(driver, 'Text View')\n",
    "    time.sleep(2)\n",
    "\n",
    "    # Clicking Read More to reveal all commanders\n",
    "    elements = driver.find_elements(By.CSS_SELECTOR, \"button.btn.btn-primary\")\n",
    "    while len(elements)>1:\n",
    "        try:\n",
    "            element = driver.find_elements(By.CSS_SELECTOR, \"button.btn.btn-primary\")[1]\n",
    "            element.click()\n",
    "            time.sleep(2)\n",
    "        except IndexError:\n",
    "            break\n",
    "    \n",
    "    # Scraping Commanders\n",
    "    a = driver.page_source\n",
    "    soup = bs(a, features=\"html.parser\")\n",
    "\n",
    "    commanders = []\n",
    "    for c in soup.find_all('a', href=True):\n",
    "        if f\"/commanders/\" in c[\"href\"]:\n",
    "            commanders.append(c['href'][1:])\n",
    "    \n",
    "\n",
    "    #commanders = ['/krrik-son-of-yawgmoth']\n",
    "    for commander in commanders[:2]:\n",
    "        soup_commander = mtgu.get_soup_from_website(f\"{COMMANDERS_COLORS_URL}{commander}\", options=True)\n",
    "        time.sleep(3)\n",
    "\n",
    "        while True:\n",
    "            for a in soup.find_all('a', href=True):\n",
    "                if '/deckpreview/' in a[\"href\"]:\n",
    "                    print(a['href'])\n",
    "            if mtgu.check_exists_by_xpath(response, \"//a[contains(text(), 'Next')]\"):\n",
    "                element = driver.find_element(By.XPATH, \"//a[contains(text(), 'Next')]\")\n",
    "                driver.execute_script('arguments[0].scrollIntoView();', element)\n",
    "                driver.execute_script('window.scrollBy(0, -200);')\n",
    "                element.click()\n",
    "            else:\n",
    "                print('No next page!')\n",
    "                break\n",
    "            time.sleep(2)"
   ]
  },
  {
   "cell_type": "code",
   "execution_count": null,
   "metadata": {},
   "outputs": [],
   "source": []
  }
 ],
 "metadata": {
  "kernelspec": {
   "display_name": "Python 3.10.4 ('mtg-project')",
   "language": "python",
   "name": "python3"
  },
  "language_info": {
   "codemirror_mode": {
    "name": "ipython",
    "version": 3
   },
   "file_extension": ".py",
   "mimetype": "text/x-python",
   "name": "python",
   "nbconvert_exporter": "python",
   "pygments_lexer": "ipython3",
   "version": "3.10.4"
  },
  "orig_nbformat": 4,
  "vscode": {
   "interpreter": {
    "hash": "1804d17897e622be3fa7cdd50431dd95b9465a9e23e582731446dbf8130f0af7"
   }
  }
 },
 "nbformat": 4,
 "nbformat_minor": 2
}
