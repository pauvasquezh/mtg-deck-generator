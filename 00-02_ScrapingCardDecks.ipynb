{
 "cells": [
  {
   "cell_type": "markdown",
   "metadata": {},
   "source": [
    "# Part I: Scraping MTG Card Decks\n"
   ]
  },
  {
   "cell_type": "markdown",
   "metadata": {},
   "source": [
    "I will be scraping built decks from EDHRec."
   ]
  },
  {
   "cell_type": "code",
   "execution_count": 2,
   "metadata": {},
   "outputs": [],
   "source": [
    "from bs4 import BeautifulSoup as bs\n",
    "from selenium import webdriver\n",
    "import re\n",
    "import time\n",
    "import pandas as pd\n",
    "import mtgutilities as mtgu\n",
    "import json\n",
    "from selenium.webdriver.common.by import By\n",
    "from selenium.common.exceptions import StaleElementReferenceException\n",
    "from selenium.webdriver.chrome.options import Options\n",
    "import requests"
   ]
  },
  {
   "cell_type": "code",
   "execution_count": 3,
   "metadata": {},
   "outputs": [],
   "source": [
    "with open('config.json', 'r') as config_file:\n",
    "    contents = json.loads(config_file.read())"
   ]
  },
  {
   "cell_type": "markdown",
   "metadata": {},
   "source": [
    "### Getting all of the expansion URLs"
   ]
  },
  {
   "cell_type": "code",
   "execution_count": 8,
   "metadata": {},
   "outputs": [],
   "source": [
    "URL = 'https://edhrec.com/'\n",
    "COLORS = ['w', 'u', 'b', 'g', 'r', 'colorless', 'wu', 'ub', 'br', 'rg', 'gw', 'wb', 'ur', 'bg', 'rw', 'gu', 'wub', 'ubr'\\\n",
    "    'brg', 'rgw', 'gwu', 'wbg', 'uwr', 'bgu', 'rwb', 'gur', 'wubr', 'ubrg', 'brgw', 'rgwu', 'gwub', 'wubrg']\n",
    "color_urls = [f\"{URL}commanders/{commander_color}\" for commander_color in COLORS]"
   ]
  },
  {
   "cell_type": "code",
   "execution_count": 36,
   "metadata": {},
   "outputs": [
    {
     "name": "stdout",
     "output_type": "stream",
     "text": [
      "https://edhrec.com/commanders/w\n"
     ]
    },
    {
     "ename": "KeyboardInterrupt",
     "evalue": "",
     "output_type": "error",
     "traceback": [
      "\u001b[0;31m---------------------------------------------------------------------------\u001b[0m",
      "\u001b[0;31mKeyboardInterrupt\u001b[0m                         Traceback (most recent call last)",
      "\u001b[1;32m/Users/gatito/mtg-deck-generator/00-02_ScrapingCardDecks.ipynb Cell 7\u001b[0m in \u001b[0;36m<cell line: 2>\u001b[0;34m()\u001b[0m\n\u001b[1;32m     <a href='vscode-notebook-cell:/Users/gatito/mtg-deck-generator/00-02_ScrapingCardDecks.ipynb#W5sZmlsZQ%3D%3D?line=34'>35</a>\u001b[0m decks \u001b[39m=\u001b[39m {}\n\u001b[1;32m     <a href='vscode-notebook-cell:/Users/gatito/mtg-deck-generator/00-02_ScrapingCardDecks.ipynb#W5sZmlsZQ%3D%3D?line=35'>36</a>\u001b[0m commander_url \u001b[39m=\u001b[39m \u001b[39mf\u001b[39m\u001b[39m\"\u001b[39m\u001b[39m{\u001b[39;00mURL\u001b[39m}\u001b[39;00m\u001b[39mdecks/\u001b[39m\u001b[39m{\u001b[39;00mcommander[\u001b[39m11\u001b[39m:]\u001b[39m}\u001b[39;00m\u001b[39m\"\u001b[39m\n\u001b[0;32m---> <a href='vscode-notebook-cell:/Users/gatito/mtg-deck-generator/00-02_ScrapingCardDecks.ipynb#W5sZmlsZQ%3D%3D?line=36'>37</a>\u001b[0m driver\u001b[39m.\u001b[39;49mget(commander_url)\n\u001b[1;32m     <a href='vscode-notebook-cell:/Users/gatito/mtg-deck-generator/00-02_ScrapingCardDecks.ipynb#W5sZmlsZQ%3D%3D?line=37'>38</a>\u001b[0m a \u001b[39m=\u001b[39m driver\u001b[39m.\u001b[39mpage_source\n\u001b[1;32m     <a href='vscode-notebook-cell:/Users/gatito/mtg-deck-generator/00-02_ScrapingCardDecks.ipynb#W5sZmlsZQ%3D%3D?line=38'>39</a>\u001b[0m soup_commander \u001b[39m=\u001b[39m bs(a, features\u001b[39m=\u001b[39m\u001b[39m\"\u001b[39m\u001b[39mhtml.parser\u001b[39m\u001b[39m\"\u001b[39m)\n",
      "File \u001b[0;32m/opt/anaconda3/envs/mtg-project/lib/python3.10/site-packages/selenium/webdriver/remote/webdriver.py:333\u001b[0m, in \u001b[0;36mWebDriver.get\u001b[0;34m(self, url)\u001b[0m\n\u001b[1;32m    329\u001b[0m \u001b[39mdef\u001b[39;00m \u001b[39mget\u001b[39m(\u001b[39mself\u001b[39m, url):\n\u001b[1;32m    330\u001b[0m     \u001b[39m\"\"\"\u001b[39;00m\n\u001b[1;32m    331\u001b[0m \u001b[39m    Loads a web page in the current browser session.\u001b[39;00m\n\u001b[1;32m    332\u001b[0m \u001b[39m    \"\"\"\u001b[39;00m\n\u001b[0;32m--> 333\u001b[0m     \u001b[39mself\u001b[39;49m\u001b[39m.\u001b[39;49mexecute(Command\u001b[39m.\u001b[39;49mGET, {\u001b[39m'\u001b[39;49m\u001b[39murl\u001b[39;49m\u001b[39m'\u001b[39;49m: url})\n",
      "File \u001b[0;32m/opt/anaconda3/envs/mtg-project/lib/python3.10/site-packages/selenium/webdriver/remote/webdriver.py:319\u001b[0m, in \u001b[0;36mWebDriver.execute\u001b[0;34m(self, driver_command, params)\u001b[0m\n\u001b[1;32m    316\u001b[0m         params[\u001b[39m'\u001b[39m\u001b[39msessionId\u001b[39m\u001b[39m'\u001b[39m] \u001b[39m=\u001b[39m \u001b[39mself\u001b[39m\u001b[39m.\u001b[39msession_id\n\u001b[1;32m    318\u001b[0m params \u001b[39m=\u001b[39m \u001b[39mself\u001b[39m\u001b[39m.\u001b[39m_wrap_value(params)\n\u001b[0;32m--> 319\u001b[0m response \u001b[39m=\u001b[39m \u001b[39mself\u001b[39;49m\u001b[39m.\u001b[39;49mcommand_executor\u001b[39m.\u001b[39;49mexecute(driver_command, params)\n\u001b[1;32m    320\u001b[0m \u001b[39mif\u001b[39;00m response:\n\u001b[1;32m    321\u001b[0m     \u001b[39mself\u001b[39m\u001b[39m.\u001b[39merror_handler\u001b[39m.\u001b[39mcheck_response(response)\n",
      "File \u001b[0;32m/opt/anaconda3/envs/mtg-project/lib/python3.10/site-packages/selenium/webdriver/remote/remote_connection.py:374\u001b[0m, in \u001b[0;36mRemoteConnection.execute\u001b[0;34m(self, command, params)\u001b[0m\n\u001b[1;32m    372\u001b[0m data \u001b[39m=\u001b[39m utils\u001b[39m.\u001b[39mdump_json(params)\n\u001b[1;32m    373\u001b[0m url \u001b[39m=\u001b[39m \u001b[39m'\u001b[39m\u001b[39m%s\u001b[39;00m\u001b[39m%s\u001b[39;00m\u001b[39m'\u001b[39m \u001b[39m%\u001b[39m (\u001b[39mself\u001b[39m\u001b[39m.\u001b[39m_url, path)\n\u001b[0;32m--> 374\u001b[0m \u001b[39mreturn\u001b[39;00m \u001b[39mself\u001b[39;49m\u001b[39m.\u001b[39;49m_request(command_info[\u001b[39m0\u001b[39;49m], url, body\u001b[39m=\u001b[39;49mdata)\n",
      "File \u001b[0;32m/opt/anaconda3/envs/mtg-project/lib/python3.10/site-packages/selenium/webdriver/remote/remote_connection.py:397\u001b[0m, in \u001b[0;36mRemoteConnection._request\u001b[0;34m(self, method, url, body)\u001b[0m\n\u001b[1;32m    394\u001b[0m     body \u001b[39m=\u001b[39m \u001b[39mNone\u001b[39;00m\n\u001b[1;32m    396\u001b[0m \u001b[39mif\u001b[39;00m \u001b[39mself\u001b[39m\u001b[39m.\u001b[39mkeep_alive:\n\u001b[0;32m--> 397\u001b[0m     resp \u001b[39m=\u001b[39m \u001b[39mself\u001b[39;49m\u001b[39m.\u001b[39;49m_conn\u001b[39m.\u001b[39;49mrequest(method, url, body\u001b[39m=\u001b[39;49mbody, headers\u001b[39m=\u001b[39;49mheaders)\n\u001b[1;32m    399\u001b[0m     statuscode \u001b[39m=\u001b[39m resp\u001b[39m.\u001b[39mstatus\n\u001b[1;32m    400\u001b[0m \u001b[39melse\u001b[39;00m:\n",
      "File \u001b[0;32m/opt/anaconda3/envs/mtg-project/lib/python3.10/site-packages/urllib3/request.py:78\u001b[0m, in \u001b[0;36mRequestMethods.request\u001b[0;34m(self, method, url, fields, headers, **urlopen_kw)\u001b[0m\n\u001b[1;32m     74\u001b[0m     \u001b[39mreturn\u001b[39;00m \u001b[39mself\u001b[39m\u001b[39m.\u001b[39mrequest_encode_url(\n\u001b[1;32m     75\u001b[0m         method, url, fields\u001b[39m=\u001b[39mfields, headers\u001b[39m=\u001b[39mheaders, \u001b[39m*\u001b[39m\u001b[39m*\u001b[39murlopen_kw\n\u001b[1;32m     76\u001b[0m     )\n\u001b[1;32m     77\u001b[0m \u001b[39melse\u001b[39;00m:\n\u001b[0;32m---> 78\u001b[0m     \u001b[39mreturn\u001b[39;00m \u001b[39mself\u001b[39;49m\u001b[39m.\u001b[39;49mrequest_encode_body(\n\u001b[1;32m     79\u001b[0m         method, url, fields\u001b[39m=\u001b[39;49mfields, headers\u001b[39m=\u001b[39;49mheaders, \u001b[39m*\u001b[39;49m\u001b[39m*\u001b[39;49murlopen_kw\n\u001b[1;32m     80\u001b[0m     )\n",
      "File \u001b[0;32m/opt/anaconda3/envs/mtg-project/lib/python3.10/site-packages/urllib3/request.py:170\u001b[0m, in \u001b[0;36mRequestMethods.request_encode_body\u001b[0;34m(self, method, url, fields, headers, encode_multipart, multipart_boundary, **urlopen_kw)\u001b[0m\n\u001b[1;32m    167\u001b[0m extra_kw[\u001b[39m\"\u001b[39m\u001b[39mheaders\u001b[39m\u001b[39m\"\u001b[39m]\u001b[39m.\u001b[39mupdate(headers)\n\u001b[1;32m    168\u001b[0m extra_kw\u001b[39m.\u001b[39mupdate(urlopen_kw)\n\u001b[0;32m--> 170\u001b[0m \u001b[39mreturn\u001b[39;00m \u001b[39mself\u001b[39;49m\u001b[39m.\u001b[39;49murlopen(method, url, \u001b[39m*\u001b[39;49m\u001b[39m*\u001b[39;49mextra_kw)\n",
      "File \u001b[0;32m/opt/anaconda3/envs/mtg-project/lib/python3.10/site-packages/urllib3/poolmanager.py:376\u001b[0m, in \u001b[0;36mPoolManager.urlopen\u001b[0;34m(self, method, url, redirect, **kw)\u001b[0m\n\u001b[1;32m    374\u001b[0m     response \u001b[39m=\u001b[39m conn\u001b[39m.\u001b[39murlopen(method, url, \u001b[39m*\u001b[39m\u001b[39m*\u001b[39mkw)\n\u001b[1;32m    375\u001b[0m \u001b[39melse\u001b[39;00m:\n\u001b[0;32m--> 376\u001b[0m     response \u001b[39m=\u001b[39m conn\u001b[39m.\u001b[39;49murlopen(method, u\u001b[39m.\u001b[39;49mrequest_uri, \u001b[39m*\u001b[39;49m\u001b[39m*\u001b[39;49mkw)\n\u001b[1;32m    378\u001b[0m redirect_location \u001b[39m=\u001b[39m redirect \u001b[39mand\u001b[39;00m response\u001b[39m.\u001b[39mget_redirect_location()\n\u001b[1;32m    379\u001b[0m \u001b[39mif\u001b[39;00m \u001b[39mnot\u001b[39;00m redirect_location:\n",
      "File \u001b[0;32m/opt/anaconda3/envs/mtg-project/lib/python3.10/site-packages/urllib3/connectionpool.py:703\u001b[0m, in \u001b[0;36mHTTPConnectionPool.urlopen\u001b[0;34m(self, method, url, body, headers, retries, redirect, assert_same_host, timeout, pool_timeout, release_conn, chunked, body_pos, **response_kw)\u001b[0m\n\u001b[1;32m    700\u001b[0m     \u001b[39mself\u001b[39m\u001b[39m.\u001b[39m_prepare_proxy(conn)\n\u001b[1;32m    702\u001b[0m \u001b[39m# Make the request on the httplib connection object.\u001b[39;00m\n\u001b[0;32m--> 703\u001b[0m httplib_response \u001b[39m=\u001b[39m \u001b[39mself\u001b[39;49m\u001b[39m.\u001b[39;49m_make_request(\n\u001b[1;32m    704\u001b[0m     conn,\n\u001b[1;32m    705\u001b[0m     method,\n\u001b[1;32m    706\u001b[0m     url,\n\u001b[1;32m    707\u001b[0m     timeout\u001b[39m=\u001b[39;49mtimeout_obj,\n\u001b[1;32m    708\u001b[0m     body\u001b[39m=\u001b[39;49mbody,\n\u001b[1;32m    709\u001b[0m     headers\u001b[39m=\u001b[39;49mheaders,\n\u001b[1;32m    710\u001b[0m     chunked\u001b[39m=\u001b[39;49mchunked,\n\u001b[1;32m    711\u001b[0m )\n\u001b[1;32m    713\u001b[0m \u001b[39m# If we're going to release the connection in ``finally:``, then\u001b[39;00m\n\u001b[1;32m    714\u001b[0m \u001b[39m# the response doesn't need to know about the connection. Otherwise\u001b[39;00m\n\u001b[1;32m    715\u001b[0m \u001b[39m# it will also try to release it and we'll have a double-release\u001b[39;00m\n\u001b[1;32m    716\u001b[0m \u001b[39m# mess.\u001b[39;00m\n\u001b[1;32m    717\u001b[0m response_conn \u001b[39m=\u001b[39m conn \u001b[39mif\u001b[39;00m \u001b[39mnot\u001b[39;00m release_conn \u001b[39melse\u001b[39;00m \u001b[39mNone\u001b[39;00m\n",
      "File \u001b[0;32m/opt/anaconda3/envs/mtg-project/lib/python3.10/site-packages/urllib3/connectionpool.py:449\u001b[0m, in \u001b[0;36mHTTPConnectionPool._make_request\u001b[0;34m(self, conn, method, url, timeout, chunked, **httplib_request_kw)\u001b[0m\n\u001b[1;32m    444\u001b[0m             httplib_response \u001b[39m=\u001b[39m conn\u001b[39m.\u001b[39mgetresponse()\n\u001b[1;32m    445\u001b[0m         \u001b[39mexcept\u001b[39;00m \u001b[39mBaseException\u001b[39;00m \u001b[39mas\u001b[39;00m e:\n\u001b[1;32m    446\u001b[0m             \u001b[39m# Remove the TypeError from the exception chain in\u001b[39;00m\n\u001b[1;32m    447\u001b[0m             \u001b[39m# Python 3 (including for exceptions like SystemExit).\u001b[39;00m\n\u001b[1;32m    448\u001b[0m             \u001b[39m# Otherwise it looks like a bug in the code.\u001b[39;00m\n\u001b[0;32m--> 449\u001b[0m             six\u001b[39m.\u001b[39;49mraise_from(e, \u001b[39mNone\u001b[39;49;00m)\n\u001b[1;32m    450\u001b[0m \u001b[39mexcept\u001b[39;00m (SocketTimeout, BaseSSLError, SocketError) \u001b[39mas\u001b[39;00m e:\n\u001b[1;32m    451\u001b[0m     \u001b[39mself\u001b[39m\u001b[39m.\u001b[39m_raise_timeout(err\u001b[39m=\u001b[39me, url\u001b[39m=\u001b[39murl, timeout_value\u001b[39m=\u001b[39mread_timeout)\n",
      "File \u001b[0;32m<string>:3\u001b[0m, in \u001b[0;36mraise_from\u001b[0;34m(value, from_value)\u001b[0m\n",
      "File \u001b[0;32m/opt/anaconda3/envs/mtg-project/lib/python3.10/site-packages/urllib3/connectionpool.py:444\u001b[0m, in \u001b[0;36mHTTPConnectionPool._make_request\u001b[0;34m(self, conn, method, url, timeout, chunked, **httplib_request_kw)\u001b[0m\n\u001b[1;32m    441\u001b[0m \u001b[39mexcept\u001b[39;00m \u001b[39mTypeError\u001b[39;00m:\n\u001b[1;32m    442\u001b[0m     \u001b[39m# Python 3\u001b[39;00m\n\u001b[1;32m    443\u001b[0m     \u001b[39mtry\u001b[39;00m:\n\u001b[0;32m--> 444\u001b[0m         httplib_response \u001b[39m=\u001b[39m conn\u001b[39m.\u001b[39;49mgetresponse()\n\u001b[1;32m    445\u001b[0m     \u001b[39mexcept\u001b[39;00m \u001b[39mBaseException\u001b[39;00m \u001b[39mas\u001b[39;00m e:\n\u001b[1;32m    446\u001b[0m         \u001b[39m# Remove the TypeError from the exception chain in\u001b[39;00m\n\u001b[1;32m    447\u001b[0m         \u001b[39m# Python 3 (including for exceptions like SystemExit).\u001b[39;00m\n\u001b[1;32m    448\u001b[0m         \u001b[39m# Otherwise it looks like a bug in the code.\u001b[39;00m\n\u001b[1;32m    449\u001b[0m         six\u001b[39m.\u001b[39mraise_from(e, \u001b[39mNone\u001b[39;00m)\n",
      "File \u001b[0;32m/opt/anaconda3/envs/mtg-project/lib/python3.10/http/client.py:1374\u001b[0m, in \u001b[0;36mHTTPConnection.getresponse\u001b[0;34m(self)\u001b[0m\n\u001b[1;32m   1372\u001b[0m \u001b[39mtry\u001b[39;00m:\n\u001b[1;32m   1373\u001b[0m     \u001b[39mtry\u001b[39;00m:\n\u001b[0;32m-> 1374\u001b[0m         response\u001b[39m.\u001b[39;49mbegin()\n\u001b[1;32m   1375\u001b[0m     \u001b[39mexcept\u001b[39;00m \u001b[39mConnectionError\u001b[39;00m:\n\u001b[1;32m   1376\u001b[0m         \u001b[39mself\u001b[39m\u001b[39m.\u001b[39mclose()\n",
      "File \u001b[0;32m/opt/anaconda3/envs/mtg-project/lib/python3.10/http/client.py:318\u001b[0m, in \u001b[0;36mHTTPResponse.begin\u001b[0;34m(self)\u001b[0m\n\u001b[1;32m    316\u001b[0m \u001b[39m# read until we get a non-100 response\u001b[39;00m\n\u001b[1;32m    317\u001b[0m \u001b[39mwhile\u001b[39;00m \u001b[39mTrue\u001b[39;00m:\n\u001b[0;32m--> 318\u001b[0m     version, status, reason \u001b[39m=\u001b[39m \u001b[39mself\u001b[39;49m\u001b[39m.\u001b[39;49m_read_status()\n\u001b[1;32m    319\u001b[0m     \u001b[39mif\u001b[39;00m status \u001b[39m!=\u001b[39m CONTINUE:\n\u001b[1;32m    320\u001b[0m         \u001b[39mbreak\u001b[39;00m\n",
      "File \u001b[0;32m/opt/anaconda3/envs/mtg-project/lib/python3.10/http/client.py:279\u001b[0m, in \u001b[0;36mHTTPResponse._read_status\u001b[0;34m(self)\u001b[0m\n\u001b[1;32m    278\u001b[0m \u001b[39mdef\u001b[39;00m \u001b[39m_read_status\u001b[39m(\u001b[39mself\u001b[39m):\n\u001b[0;32m--> 279\u001b[0m     line \u001b[39m=\u001b[39m \u001b[39mstr\u001b[39m(\u001b[39mself\u001b[39;49m\u001b[39m.\u001b[39;49mfp\u001b[39m.\u001b[39;49mreadline(_MAXLINE \u001b[39m+\u001b[39;49m \u001b[39m1\u001b[39;49m), \u001b[39m\"\u001b[39m\u001b[39miso-8859-1\u001b[39m\u001b[39m\"\u001b[39m)\n\u001b[1;32m    280\u001b[0m     \u001b[39mif\u001b[39;00m \u001b[39mlen\u001b[39m(line) \u001b[39m>\u001b[39m _MAXLINE:\n\u001b[1;32m    281\u001b[0m         \u001b[39mraise\u001b[39;00m LineTooLong(\u001b[39m\"\u001b[39m\u001b[39mstatus line\u001b[39m\u001b[39m\"\u001b[39m)\n",
      "File \u001b[0;32m/opt/anaconda3/envs/mtg-project/lib/python3.10/socket.py:705\u001b[0m, in \u001b[0;36mSocketIO.readinto\u001b[0;34m(self, b)\u001b[0m\n\u001b[1;32m    703\u001b[0m \u001b[39mwhile\u001b[39;00m \u001b[39mTrue\u001b[39;00m:\n\u001b[1;32m    704\u001b[0m     \u001b[39mtry\u001b[39;00m:\n\u001b[0;32m--> 705\u001b[0m         \u001b[39mreturn\u001b[39;00m \u001b[39mself\u001b[39;49m\u001b[39m.\u001b[39;49m_sock\u001b[39m.\u001b[39;49mrecv_into(b)\n\u001b[1;32m    706\u001b[0m     \u001b[39mexcept\u001b[39;00m timeout:\n\u001b[1;32m    707\u001b[0m         \u001b[39mself\u001b[39m\u001b[39m.\u001b[39m_timeout_occurred \u001b[39m=\u001b[39m \u001b[39mTrue\u001b[39;00m\n",
      "\u001b[0;31mKeyboardInterrupt\u001b[0m: "
     ]
    }
   ],
   "source": [
    "colors = {}\n",
    "for color_url in color_urls:\n",
    "    # Enter each commander color site, click Text View\n",
    "    print(color_url)\n",
    "    chrome_options = webdriver.ChromeOptions()\n",
    "    opts = Options()\n",
    "    opts.add_argument(\"--incognito\")\n",
    "    driver = webdriver.Chrome(contents[\"chrome-driver-location\"], options=opts)\n",
    "    driver.get(color_url)\n",
    "    mtgu.click_element_in_href(driver, 'Text View')\n",
    "    time.sleep(2)\n",
    "\n",
    "    # Clicking Read More to reveal all commanders\n",
    "    elements = driver.find_elements(By.CSS_SELECTOR, \"button.btn.btn-primary\")\n",
    "    while len(elements)>1:\n",
    "        try:\n",
    "            element = driver.find_elements(By.CSS_SELECTOR, \"button.btn.btn-primary\")[1]\n",
    "            element.click()\n",
    "            time.sleep(2)\n",
    "        except IndexError:\n",
    "            break\n",
    "    \n",
    "    # Scraping Commanders\n",
    "    a = driver.page_source\n",
    "    soup = bs(a, features=\"html.parser\")\n",
    "\n",
    "    commanders_list = []\n",
    "    for c in soup.find_all('a', href=True):\n",
    "        if f\"/commanders/\" in c[\"href\"]:\n",
    "            commanders_list.append(c['href'][1:])\n",
    "        \n",
    "    commanders = {}\n",
    "    #commanders = ['/krrik-son-of-yawgmoth']\n",
    "    for commander in commanders_list[1:]:\n",
    "        decks = {}\n",
    "        commander_url = f\"{URL}decks/{commander[11:]}\"\n",
    "        driver.get(commander_url)\n",
    "        a = driver.page_source\n",
    "        soup_commander = bs(a, features=\"html.parser\")\n",
    "\n",
    "        while True:\n",
    "            for a in soup_commander.find_all('a', href=True):\n",
    "                deck_data = {}\n",
    "                if '/deckpreview/' in a[\"href\"]:\n",
    "                    deck_id = a[\"href\"]\n",
    "                    for b in soup_commander.findAll(\"td\"):\n",
    "                        if deck_id in str(b):\n",
    "                            deck_data['price'] = b.findNextSibling().text\n",
    "                            deck_data['tribe'] = b.findNextSibling().findNextSibling().text\n",
    "                            deck_data['theme'] = b.findNextSibling().findNextSibling().findNextSibling().text\n",
    "                            decks[deck_id] = deck_data\n",
    "\n",
    "            if mtgu.check_exists_by_xpath(driver, \"//a[contains(text(), 'Next')]\"):\n",
    "                element = driver.find_element(By.XPATH, \"//a[contains(text(), 'Next')]\")\n",
    "                driver.execute_script('arguments[0].scrollIntoView();', element)\n",
    "                driver.execute_script('window.scrollBy(0, -200);')\n",
    "                element.click()\n",
    "            else:\n",
    "                break\n",
    "        commanders[commander] = decks\n",
    "    colors[color_url] = commanders"
   ]
  },
  {
   "cell_type": "code",
   "execution_count": 35,
   "metadata": {},
   "outputs": [
    {
     "data": {
      "text/plain": [
       "{'https://edhrec.com/commanders/w': {'commanders/giada-font-of-hope': {'/deckpreview/OaDzzyV5vuOVOht-hYxtjg': {'price': '$144',\n",
       "    'tribe': 'Angel',\n",
       "    'theme': ''},\n",
       "   '/deckpreview/InGPrYPBVFEaoqr4mMuWTg': {'price': '$1020',\n",
       "    'tribe': 'Angel',\n",
       "    'theme': ''},\n",
       "   '/deckpreview/92WC64fI_gfIgAx4LFJxaA': {'price': '$436',\n",
       "    'tribe': 'Angel',\n",
       "    'theme': ''},\n",
       "   '/deckpreview/rpkQngizNI_0_PwBAW4Idw': {'price': '$126',\n",
       "    'tribe': 'Angel',\n",
       "    'theme': ''},\n",
       "   '/deckpreview/Fi0snReqhVJNAoElRvYeFQ': {'price': '$119',\n",
       "    'tribe': 'Angel',\n",
       "    'theme': ''},\n",
       "   '/deckpreview/-eS022gORmbRBz9t56dGjQ': {'price': '$697',\n",
       "    'tribe': 'Angel',\n",
       "    'theme': ''},\n",
       "   '/deckpreview/4q7hnkLgF3kwTmsPyvGcIQ': {'price': '$722',\n",
       "    'tribe': 'Angel',\n",
       "    'theme': ''},\n",
       "   '/deckpreview/XasZEx66aaCLr2Aw-pwH_A': {'price': '$679',\n",
       "    'tribe': 'Angel',\n",
       "    'theme': ''},\n",
       "   '/deckpreview/YCmZEcTeNFUgGYviDaMnPA': {'price': '$871',\n",
       "    'tribe': 'Angel',\n",
       "    'theme': 'Lifegain'},\n",
       "   '/deckpreview/6VRVCVuJproCaDO3cu_NGg': {'price': '$785',\n",
       "    'tribe': 'Angel',\n",
       "    'theme': 'Lifegain'}}}}"
      ]
     },
     "execution_count": 35,
     "metadata": {},
     "output_type": "execute_result"
    }
   ],
   "source": [
    "import json\n",
    "\n",
    "with open('my_dict.json', 'w') as f:\n",
    "    json.dump(my_dict, f)"
   ]
  },
  {
   "cell_type": "code",
   "execution_count": 23,
   "metadata": {},
   "outputs": [
    {
     "data": {
      "text/plain": [
       "[<td><a href=\"/deckpreview/OaDzzyV5vuOVOht-hYxtjg\">View Decklist</a></td>,\n",
       " <td>$144</td>,\n",
       " <td>Angel</td>,\n",
       " <td></td>,\n",
       " <td><span><img alt=\"Salt Score\" class=\"DecksTable_image__23nZf\" src=\"data:image/png;base64,iVBORw0KGgoAAAANSUhEUgAAADAAAAAwCAYAAABXAvmHAAAABHNCSVQICAgIfAhkiAAAAAlwSFlzAAAN1wAADdcBQiibeAAAABl0RVh0U29mdHdhcmUAd3d3Lmlua3NjYXBlLm9yZ5vuPBoAAAp6SURBVGiBxZp/UFTXFcfPOfftLqgQWVhMMlTWqFi6DUYdq/Ir2xgbCRIRea1tU39k/NWZOkkTk6Z2nKzR2jZNM6bTaVMwE8c0NvEFNB216mQKddDGNAqiu/5IYWQxK7DWjG4WF9579/QPfgQJyPLL7j93h53vvZ93z9l7vvcsAACoqqoAAPJ4POTxeKjH37pG6DX2/nww2h8i4nkAMBDRBwA/GMa6HW9cLhcHAgHx+eefy/r6eoqLi2PofDkcDk5ISKD777/f9Hq9iqZpuqqqlq7R5XIZfWlDoRA+8MADspf2R0RUKqVEIjKZWSACA+DPZsyYsWMA7VfWraysJOHz+TAtLa1PgJSUlJGE/yYRvS+ltCiKstFut6vt7bdapITHAGBBU1NTODU19V/RwgcCAVFWVmYKj8eDfr8fogAYDvw4IjoqpUwWQryxefPmzSkpKdLpnHTywoULV5h5EQAs8Pv9t7Kyso5Hu67L5UICAOidNkOF70drCiHeklJOFkJ8MmHChOd6anNycnYR0XoAYGbevm9f2cZo19U0TSIAoNvtFqO087qiKJsMw9hGRNetVuvs5cuXN/alrampWcEs/8wMKIT4uWEYrwy0rsPhYKGqqmhtbcXRgLfZbAt0Xd9JRICIy1atWnW6P21mZmZtdXVNAwAUmKb5qKIo7efOnTt2p3UPHTrEwufzgdPppKF+YQEA+tKOHz8+NRwOHyCieAD49erVq3cO9OBJSUnnvF5vIxEtMk1zvqIokeLi4qr+Nm3dunUdERg7diwMdef7gs/IyBjT0NBQRkQuZv7H3Llz11utViPKg6L7IaSUj1ZVHbvldE463pc2GAwiaZpmjmTaqKpqqa2t3UJEOcwcsNvty1NSUtoHecrtRsQ1iMCmyb8qKyt7vi+tpmkdEZg8ebIcibTp1OYT0Q5mNmw2W+HChQt9Qzmip06dera6uqax84h91O/3h+12+0c9tQ6HA4XP52OHw2EZbtp0alOJ6AAzxyoKPr94caE2nPpis9lqm5ubu+tEU1PTF1lZWSdvO6JVVRWappnDTRtN0yxEdJiZnUS4d8mSpS+MRHFMTU2taWxsvMLMixDhO6dPV4eTkpI+1jRNd7vdQvh8PhiBtDGEEKXM/BgiXIyPv6cQEY2RquyZmZnVly5dCEjJ+Yi4wOv1hlRV/fehQ4eM2yIwxLTRLRbLj03T3IQIYSGUvPT09MBI25L8/EWnjh8/ftU0zXwiWuD1ekNut/skdjrSoaaNHhsbOycSiVQgQgwirXzooYf2jKKn0i0Wy2pd198gIpRSriJVVWmQ3qYbIDk5OTkSifwFEWIAsHS04VVVtei6vtNisTzDzIiIL5OmaX3eBUKhEN7pLpCXl2cNBoOliDCZGU4nJiY+O9rwXWNWVtafEKGVmSeSx+OBoUxy5MiRZxGhgBmuW63W77lcrsjdgHe5XMaJEyeKmGEMIl4bkp3et29fFgC/zAySiFbOmzfv8nCteDTwwWBQbtu27Re6rr8DHf77d4O20wcOHHC0tUU+YYZ7EXFbbm7ulrux80eOHBkXDofelhIeBwCJiNtzc3O3KKqqUjAYjGqS6upqbG+P7GWGewHgw/T09K13A37//v0PmqahMcMkAPgvEa3Myck5XFlZKYXP54PExEQRDcAHH+x/TUooBoArsbGxj6elpYUHCx8MBtFms0G08GVlZauY5V5mcADASavVmpeVlXWqy053tycGAti+fft3dV3fAwC6EGJBdnb2idHceafTeY/f798BwCuYARDxjw6H44X09PS2Li0AAAIArF271nIngFdfffUb4XC4CgDuQcTncnNzfz+a8OPGjXOFw+F3ECGDGcJEtD4nJ+fd3tqSkhJzQDu9e/fuuJaWloMAMBEAyh5++OHnRzNtrFbrskgksg8RJjLDRYvFsjA7O7uiL63D4UBF0zQTAKz9AVy+fHkdADwIAJfi4+PXjOLOg6Ior+m6/jQiIDOUxcXFrZ05c+bNO2mVTjPXLwAzLwYAIKKNU6ZM+WKU4B1CiHdN08xGhHYAfHHmzBl/GEjrdrtFt5nrC6C8vHyhlLIcAKyKoswsLCysHUzadBW3AeCziWgPM09AhCtE4vvZ2dkfRanVSVVV6gvg4MGDE6SUbwGAFQDANM1Fg9n5gQDcbrdN07TniOgIM08ggg9jYmK/NX369JPRwt8Wgd4A1dXVv2HmnwLAJQCYiggSkVYWFRXtHW7aJCcnJ7e0tJQSUQEzSyFw+7Rp6VtjYmJ4MAVO0zRdqB3dadkT4MaNG3T9+vW3ASBGUZTHEDkgJTwCAIu9Xu+nqqpeGCp8bGzs3Bs3bhwkornMfN1qpWWFhUtLAQAGU+BcLpcBAKLP7vTZs2cflFI+AwD1RUVFLxUXq5VVVVVgmua3iegJr9f7H1VVLwzhMrK+ra1tDxE5mPl0XJx1YX5+4cf19fU0WPiu7rTi8XjA6/XeBiClnNhx8sBFl8tleL1exTCMlxVFYcMwPES0q7y8HBISEt6LEt4ihCjRdX0FEQEAlKSlpW3MyMhoHc7FX1VV+oqdDoVCCACICCAl9CxwimEYWxVF2cLMglnuevPNN5dFAeAkouOmaa4gojAirli6dOmGjIyM1mAwiEOFDwaDqGmaFJWVlTBt2jTsOUl9ff0YXTfWIqLwer2v95ykuLi4oqrqGEsJjzBzQXNzc11qauq5fgDyieiAlNJJRJeEEHlPPfVURSQSkUNNm66I22w2mD17NvbZnQ6FQi3Xrl37iZTyvjFjxhw8c+bMlZ6TOJ2T/nn+/HkTAOYz8xONjY31mZmZ3TWivLw8tqKiYhsR7ZBSxgohtPj4+MVPPvlkYKi3sP660wgAOGvWLKWPSV4hoqellIfz8vIK58yZo/ee5NixY5uYeQsAmELgS0JY9iLifZFI5JdElC2l1BVFeXHJkiWvJyQk0CAL3IDFsaCgoMPMJSQkfOXybrfbva2trcuJKKOurk5JSko61hX6rh2w2+1VTU1NOiLMlxIekVJu0HV9FRFNlFIGYmJiijZt2vSeYRi3hX44adNTGwwGsdtOnzp1Cmpqao6bpnlVVVVV0zTdZrMtam9vL0MECzP8zWKxbMrMzLzYc5KjR49OvHnzpoaIs6SUTESfSin/npiY+NsNGzZcHc7lfSBtSUmJ2f0za3l5eWxtba1XCNFkmua8Ly8yWwt0Xe4CgPEAIAHgDCJ6AYAReYqUMBsRFSnlLYvF8oyu66XD8EWD9VRfdqcrKiraXC7Xzubm5tLOhzICgYBITZ10sa6u7q9SyjgA+Dp03AsyEGE6M3wNEQ0p5ftjx45dHolEDkcT+uGkTe8fELHTTstowldbWzvm5s2bMxF5spQgFUVpamtrO6Gq6q2R6vkMRjugnR4OwCimzW3aru405+XlWWbMmHEbfE1NzeN+v3+K3W6vG+HQj4i2KwJWIjrLzM1r1qyZ3zVJc3Oz8tlnn10HAL24uDhhNFuFQ9VqmqYrTqeTGhoa2ogg0nOSuLg4/erVq2sA4NbdgB+KLwoGgwIAAGbNmmWBfv6Fput912dut1vpa/w/aeF/xb2ITCYxx+wAAAAASUVORK5CYII=\" title=\"Salt Score\"/>11.55</span></td>,\n",
       " <td><span><img alt=\"Creature\" class=\"DecksTable_image__23nZf\" src=\"/static/media/creature.b771f4a0.svg\" title=\"Creature\"/>25</span></td>,\n",
       " <td><span><img alt=\"Instant\" class=\"DecksTable_image__23nZf\" src=\"/static/media/instant.039e2acd.svg\" title=\"Instant\"/>12</span></td>,\n",
       " <td><span><img alt=\"Sorcery\" class=\"DecksTable_image__23nZf\" src=\"/static/media/sorcery.1f289386.svg\" title=\"Sorcery\"/>5</span></td>,\n",
       " <td><span><img alt=\"Artifact\" class=\"DecksTable_image__23nZf\" src=\"/static/media/artifact.9a44ec3e.svg\" title=\"Artifact\"/>11</span></td>,\n",
       " <td><span><img alt=\"Enchantment\" class=\"DecksTable_image__23nZf\" src=\"/static/media/enchantment.df276914.svg\" title=\"Enchantment\"/>7</span></td>,\n",
       " <td><span><img alt=\"Planeswalker\" class=\"DecksTable_image__23nZf\" src=\"/static/media/planeswalker.14ccef1a.svg\" title=\"Planeswalker\"/>2</span></td>,\n",
       " <td>2022-08-03</td>,\n",
       " <td><a href=\"/deckpreview/InGPrYPBVFEaoqr4mMuWTg\">View Decklist</a></td>,\n",
       " <td>$1020</td>,\n",
       " <td>Angel</td>,\n",
       " <td></td>,\n",
       " <td><span><img alt=\"Salt Score\" class=\"DecksTable_image__23nZf\" src=\"data:image/png;base64,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\" title=\"Salt Score\"/>28.37</span></td>,\n",
       " <td><span><img alt=\"Creature\" class=\"DecksTable_image__23nZf\" src=\"/static/media/creature.b771f4a0.svg\" title=\"Creature\"/>32</span></td>,\n",
       " <td><span><img alt=\"Instant\" class=\"DecksTable_image__23nZf\" src=\"/static/media/instant.039e2acd.svg\" title=\"Instant\"/>5</span></td>,\n",
       " <td><span><img alt=\"Sorcery\" class=\"DecksTable_image__23nZf\" src=\"/static/media/sorcery.1f289386.svg\" title=\"Sorcery\"/>5</span></td>,\n",
       " <td><span><img alt=\"Artifact\" class=\"DecksTable_image__23nZf\" src=\"/static/media/artifact.9a44ec3e.svg\" title=\"Artifact\"/>9</span></td>,\n",
       " <td><span><img alt=\"Enchantment\" class=\"DecksTable_image__23nZf\" src=\"/static/media/enchantment.df276914.svg\" title=\"Enchantment\"/>13</span></td>,\n",
       " <td><span><img alt=\"Planeswalker\" class=\"DecksTable_image__23nZf\" src=\"/static/media/planeswalker.14ccef1a.svg\" title=\"Planeswalker\"/>0</span></td>,\n",
       " <td>2022-08-03</td>,\n",
       " <td><a href=\"/deckpreview/92WC64fI_gfIgAx4LFJxaA\">View Decklist</a></td>,\n",
       " <td>$436</td>,\n",
       " <td>Angel</td>,\n",
       " <td></td>,\n",
       " <td><span><img alt=\"Salt Score\" class=\"DecksTable_image__23nZf\" src=\"data:image/png;base64,iVBORw0KGgoAAAANSUhEUgAAADAAAAAwCAYAAABXAvmHAAAABHNCSVQICAgIfAhkiAAAAAlwSFlzAAAN1wAADdcBQiibeAAAABl0RVh0U29mdHdhcmUAd3d3Lmlua3NjYXBlLm9yZ5vuPBoAAAp6SURBVGiBxZp/UFTXFcfPOfftLqgQWVhMMlTWqFi6DUYdq/Ir2xgbCRIRea1tU39k/NWZOkkTk6Z2nKzR2jZNM6bTaVMwE8c0NvEFNB216mQKddDGNAqiu/5IYWQxK7DWjG4WF9579/QPfgQJyPLL7j93h53vvZ93z9l7vvcsAACoqqoAAPJ4POTxeKjH37pG6DX2/nww2h8i4nkAMBDRBwA/GMa6HW9cLhcHAgHx+eefy/r6eoqLi2PofDkcDk5ISKD777/f9Hq9iqZpuqqqlq7R5XIZfWlDoRA+8MADspf2R0RUKqVEIjKZWSACA+DPZsyYsWMA7VfWraysJOHz+TAtLa1PgJSUlJGE/yYRvS+ltCiKstFut6vt7bdapITHAGBBU1NTODU19V/RwgcCAVFWVmYKj8eDfr8fogAYDvw4IjoqpUwWQryxefPmzSkpKdLpnHTywoULV5h5EQAs8Pv9t7Kyso5Hu67L5UICAOidNkOF70drCiHeklJOFkJ8MmHChOd6anNycnYR0XoAYGbevm9f2cZo19U0TSIAoNvtFqO087qiKJsMw9hGRNetVuvs5cuXN/alrampWcEs/8wMKIT4uWEYrwy0rsPhYKGqqmhtbcXRgLfZbAt0Xd9JRICIy1atWnW6P21mZmZtdXVNAwAUmKb5qKIo7efOnTt2p3UPHTrEwufzgdPppKF+YQEA+tKOHz8+NRwOHyCieAD49erVq3cO9OBJSUnnvF5vIxEtMk1zvqIokeLi4qr+Nm3dunUdERg7diwMdef7gs/IyBjT0NBQRkQuZv7H3Llz11utViPKg6L7IaSUj1ZVHbvldE463pc2GAwiaZpmjmTaqKpqqa2t3UJEOcwcsNvty1NSUtoHecrtRsQ1iMCmyb8qKyt7vi+tpmkdEZg8ebIcibTp1OYT0Q5mNmw2W+HChQt9Qzmip06dera6uqax84h91O/3h+12+0c9tQ6HA4XP52OHw2EZbtp0alOJ6AAzxyoKPr94caE2nPpis9lqm5ubu+tEU1PTF1lZWSdvO6JVVRWappnDTRtN0yxEdJiZnUS4d8mSpS+MRHFMTU2taWxsvMLMixDhO6dPV4eTkpI+1jRNd7vdQvh8PhiBtDGEEKXM/BgiXIyPv6cQEY2RquyZmZnVly5dCEjJ+Yi4wOv1hlRV/fehQ4eM2yIwxLTRLRbLj03T3IQIYSGUvPT09MBI25L8/EWnjh8/ftU0zXwiWuD1ekNut/skdjrSoaaNHhsbOycSiVQgQgwirXzooYf2jKKn0i0Wy2pd198gIpRSriJVVWmQ3qYbIDk5OTkSifwFEWIAsHS04VVVtei6vtNisTzDzIiIL5OmaX3eBUKhEN7pLpCXl2cNBoOliDCZGU4nJiY+O9rwXWNWVtafEKGVmSeSx+OBoUxy5MiRZxGhgBmuW63W77lcrsjdgHe5XMaJEyeKmGEMIl4bkp3et29fFgC/zAySiFbOmzfv8nCteDTwwWBQbtu27Re6rr8DHf77d4O20wcOHHC0tUU+YYZ7EXFbbm7ulrux80eOHBkXDofelhIeBwCJiNtzc3O3KKqqUjAYjGqS6upqbG+P7GWGewHgw/T09K13A37//v0PmqahMcMkAPgvEa3Myck5XFlZKYXP54PExEQRDcAHH+x/TUooBoArsbGxj6elpYUHCx8MBtFms0G08GVlZauY5V5mcADASavVmpeVlXWqy053tycGAti+fft3dV3fAwC6EGJBdnb2idHceafTeY/f798BwCuYARDxjw6H44X09PS2Li0AAAIArF271nIngFdfffUb4XC4CgDuQcTncnNzfz+a8OPGjXOFw+F3ECGDGcJEtD4nJ+fd3tqSkhJzQDu9e/fuuJaWloMAMBEAyh5++OHnRzNtrFbrskgksg8RJjLDRYvFsjA7O7uiL63D4UBF0zQTAKz9AVy+fHkdADwIAJfi4+PXjOLOg6Ior+m6/jQiIDOUxcXFrZ05c+bNO2mVTjPXLwAzLwYAIKKNU6ZM+WKU4B1CiHdN08xGhHYAfHHmzBl/GEjrdrtFt5nrC6C8vHyhlLIcAKyKoswsLCysHUzadBW3AeCziWgPM09AhCtE4vvZ2dkfRanVSVVV6gvg4MGDE6SUbwGAFQDANM1Fg9n5gQDcbrdN07TniOgIM08ggg9jYmK/NX369JPRwt8Wgd4A1dXVv2HmnwLAJQCYiggSkVYWFRXtHW7aJCcnJ7e0tJQSUQEzSyFw+7Rp6VtjYmJ4MAVO0zRdqB3dadkT4MaNG3T9+vW3ASBGUZTHEDkgJTwCAIu9Xu+nqqpeGCp8bGzs3Bs3bhwkornMfN1qpWWFhUtLAQAGU+BcLpcBAKLP7vTZs2cflFI+AwD1RUVFLxUXq5VVVVVgmua3iegJr9f7H1VVLwzhMrK+ra1tDxE5mPl0XJx1YX5+4cf19fU0WPiu7rTi8XjA6/XeBiClnNhx8sBFl8tleL1exTCMlxVFYcMwPES0q7y8HBISEt6LEt4ihCjRdX0FEQEAlKSlpW3MyMhoHc7FX1VV+oqdDoVCCACICCAl9CxwimEYWxVF2cLMglnuevPNN5dFAeAkouOmaa4gojAirli6dOmGjIyM1mAwiEOFDwaDqGmaFJWVlTBt2jTsOUl9ff0YXTfWIqLwer2v95ykuLi4oqrqGEsJjzBzQXNzc11qauq5fgDyieiAlNJJRJeEEHlPPfVURSQSkUNNm66I22w2mD17NvbZnQ6FQi3Xrl37iZTyvjFjxhw8c+bMlZ6TOJ2T/nn+/HkTAOYz8xONjY31mZmZ3TWivLw8tqKiYhsR7ZBSxgohtPj4+MVPPvlkYKi3sP660wgAOGvWLKWPSV4hoqellIfz8vIK58yZo/ee5NixY5uYeQsAmELgS0JY9iLifZFI5JdElC2l1BVFeXHJkiWvJyQk0CAL3IDFsaCgoMPMJSQkfOXybrfbva2trcuJKKOurk5JSko61hX6rh2w2+1VTU1NOiLMlxIekVJu0HV9FRFNlFIGYmJiijZt2vSeYRi3hX44adNTGwwGsdtOnzp1Cmpqao6bpnlVVVVV0zTdZrMtam9vL0MECzP8zWKxbMrMzLzYc5KjR49OvHnzpoaIs6SUTESfSin/npiY+NsNGzZcHc7lfSBtSUmJ2f0za3l5eWxtba1XCNFkmua8Ly8yWwt0Xe4CgPEAIAHgDCJ6AYAReYqUMBsRFSnlLYvF8oyu66XD8EWD9VRfdqcrKiraXC7Xzubm5tLOhzICgYBITZ10sa6u7q9SyjgA+Dp03AsyEGE6M3wNEQ0p5ftjx45dHolEDkcT+uGkTe8fELHTTstowldbWzvm5s2bMxF5spQgFUVpamtrO6Gq6q2R6vkMRjugnR4OwCimzW3aru405+XlWWbMmHEbfE1NzeN+v3+K3W6vG+HQj4i2KwJWIjrLzM1r1qyZ3zVJc3Oz8tlnn10HAL24uDhhNFuFQ9VqmqYrTqeTGhoa2ogg0nOSuLg4/erVq2sA4NbdgB+KLwoGgwIAAGbNmmWBfv6Fput912dut1vpa/w/aeF/xb2ITCYxx+wAAAAASUVORK5CYII=\" title=\"Salt Score\"/>21.30</span></td>,\n",
       " <td><span><img alt=\"Creature\" class=\"DecksTable_image__23nZf\" src=\"/static/media/creature.b771f4a0.svg\" title=\"Creature\"/>33</span></td>,\n",
       " <td><span><img alt=\"Instant\" class=\"DecksTable_image__23nZf\" src=\"/static/media/instant.039e2acd.svg\" title=\"Instant\"/>8</span></td>,\n",
       " <td><span><img alt=\"Sorcery\" class=\"DecksTable_image__23nZf\" src=\"/static/media/sorcery.1f289386.svg\" title=\"Sorcery\"/>7</span></td>,\n",
       " <td><span><img alt=\"Artifact\" class=\"DecksTable_image__23nZf\" src=\"/static/media/artifact.9a44ec3e.svg\" title=\"Artifact\"/>9</span></td>,\n",
       " <td><span><img alt=\"Enchantment\" class=\"DecksTable_image__23nZf\" src=\"/static/media/enchantment.df276914.svg\" title=\"Enchantment\"/>6</span></td>,\n",
       " <td><span><img alt=\"Planeswalker\" class=\"DecksTable_image__23nZf\" src=\"/static/media/planeswalker.14ccef1a.svg\" title=\"Planeswalker\"/>2</span></td>,\n",
       " <td>2022-08-03</td>,\n",
       " <td><a href=\"/deckpreview/rpkQngizNI_0_PwBAW4Idw\">View Decklist</a></td>,\n",
       " <td>$126</td>,\n",
       " <td>Angel</td>,\n",
       " <td></td>,\n",
       " <td><span><img alt=\"Salt Score\" class=\"DecksTable_image__23nZf\" src=\"data:image/png;base64,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\" title=\"Salt Score\"/>12.50</span></td>,\n",
       " <td><span><img alt=\"Creature\" class=\"DecksTable_image__23nZf\" src=\"/static/media/creature.b771f4a0.svg\" title=\"Creature\"/>41</span></td>,\n",
       " <td><span><img alt=\"Instant\" class=\"DecksTable_image__23nZf\" src=\"/static/media/instant.039e2acd.svg\" title=\"Instant\"/>4</span></td>,\n",
       " <td><span><img alt=\"Sorcery\" class=\"DecksTable_image__23nZf\" src=\"/static/media/sorcery.1f289386.svg\" title=\"Sorcery\"/>6</span></td>,\n",
       " <td><span><img alt=\"Artifact\" class=\"DecksTable_image__23nZf\" src=\"/static/media/artifact.9a44ec3e.svg\" title=\"Artifact\"/>9</span></td>,\n",
       " <td><span><img alt=\"Enchantment\" class=\"DecksTable_image__23nZf\" src=\"/static/media/enchantment.df276914.svg\" title=\"Enchantment\"/>5</span></td>,\n",
       " <td><span><img alt=\"Planeswalker\" class=\"DecksTable_image__23nZf\" src=\"/static/media/planeswalker.14ccef1a.svg\" title=\"Planeswalker\"/>1</span></td>,\n",
       " <td>2022-08-03</td>,\n",
       " <td><a href=\"/deckpreview/Fi0snReqhVJNAoElRvYeFQ\">View Decklist</a></td>,\n",
       " <td>$119</td>,\n",
       " <td>Angel</td>,\n",
       " <td></td>,\n",
       " <td><span><img alt=\"Salt Score\" class=\"DecksTable_image__23nZf\" src=\"data:image/png;base64,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\" title=\"Salt Score\"/>11.69</span></td>,\n",
       " <td><span><img alt=\"Creature\" class=\"DecksTable_image__23nZf\" src=\"/static/media/creature.b771f4a0.svg\" title=\"Creature\"/>35</span></td>,\n",
       " <td><span><img alt=\"Instant\" class=\"DecksTable_image__23nZf\" src=\"/static/media/instant.039e2acd.svg\" title=\"Instant\"/>10</span></td>,\n",
       " <td><span><img alt=\"Sorcery\" class=\"DecksTable_image__23nZf\" src=\"/static/media/sorcery.1f289386.svg\" title=\"Sorcery\"/>9</span></td>,\n",
       " <td><span><img alt=\"Artifact\" class=\"DecksTable_image__23nZf\" src=\"/static/media/artifact.9a44ec3e.svg\" title=\"Artifact\"/>6</span></td>,\n",
       " <td><span><img alt=\"Enchantment\" class=\"DecksTable_image__23nZf\" src=\"/static/media/enchantment.df276914.svg\" title=\"Enchantment\"/>9</span></td>,\n",
       " <td><span><img alt=\"Planeswalker\" class=\"DecksTable_image__23nZf\" src=\"/static/media/planeswalker.14ccef1a.svg\" title=\"Planeswalker\"/>0</span></td>,\n",
       " <td>2022-08-03</td>,\n",
       " <td><a href=\"/deckpreview/-eS022gORmbRBz9t56dGjQ\">View Decklist</a></td>,\n",
       " <td>$697</td>,\n",
       " <td>Angel</td>,\n",
       " <td></td>,\n",
       " <td><span><img alt=\"Salt Score\" class=\"DecksTable_image__23nZf\" src=\"data:image/png;base64,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\" title=\"Salt Score\"/>23.49</span></td>,\n",
       " <td><span><img alt=\"Creature\" class=\"DecksTable_image__23nZf\" src=\"/static/media/creature.b771f4a0.svg\" title=\"Creature\"/>34</span></td>,\n",
       " <td><span><img alt=\"Instant\" class=\"DecksTable_image__23nZf\" src=\"/static/media/instant.039e2acd.svg\" title=\"Instant\"/>6</span></td>,\n",
       " <td><span><img alt=\"Sorcery\" class=\"DecksTable_image__23nZf\" src=\"/static/media/sorcery.1f289386.svg\" title=\"Sorcery\"/>6</span></td>,\n",
       " <td><span><img alt=\"Artifact\" class=\"DecksTable_image__23nZf\" src=\"/static/media/artifact.9a44ec3e.svg\" title=\"Artifact\"/>16</span></td>,\n",
       " <td><span><img alt=\"Enchantment\" class=\"DecksTable_image__23nZf\" src=\"/static/media/enchantment.df276914.svg\" title=\"Enchantment\"/>5</span></td>,\n",
       " <td><span><img alt=\"Planeswalker\" class=\"DecksTable_image__23nZf\" src=\"/static/media/planeswalker.14ccef1a.svg\" title=\"Planeswalker\"/>1</span></td>,\n",
       " <td>2022-08-03</td>,\n",
       " <td><a href=\"/deckpreview/4q7hnkLgF3kwTmsPyvGcIQ\">View Decklist</a></td>,\n",
       " <td>$722</td>,\n",
       " <td>Angel</td>,\n",
       " <td></td>,\n",
       " <td><span><img alt=\"Salt Score\" class=\"DecksTable_image__23nZf\" src=\"data:image/png;base64,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\" title=\"Salt Score\"/>21.35</span></td>,\n",
       " <td><span><img alt=\"Creature\" class=\"DecksTable_image__23nZf\" src=\"/static/media/creature.b771f4a0.svg\" title=\"Creature\"/>33</span></td>,\n",
       " <td><span><img alt=\"Instant\" class=\"DecksTable_image__23nZf\" src=\"/static/media/instant.039e2acd.svg\" title=\"Instant\"/>9</span></td>,\n",
       " <td><span><img alt=\"Sorcery\" class=\"DecksTable_image__23nZf\" src=\"/static/media/sorcery.1f289386.svg\" title=\"Sorcery\"/>2</span></td>,\n",
       " <td><span><img alt=\"Artifact\" class=\"DecksTable_image__23nZf\" src=\"/static/media/artifact.9a44ec3e.svg\" title=\"Artifact\"/>13</span></td>,\n",
       " <td><span><img alt=\"Enchantment\" class=\"DecksTable_image__23nZf\" src=\"/static/media/enchantment.df276914.svg\" title=\"Enchantment\"/>9</span></td>,\n",
       " <td><span><img alt=\"Planeswalker\" class=\"DecksTable_image__23nZf\" src=\"/static/media/planeswalker.14ccef1a.svg\" title=\"Planeswalker\"/>0</span></td>,\n",
       " <td>2022-08-03</td>,\n",
       " <td><a href=\"/deckpreview/XasZEx66aaCLr2Aw-pwH_A\">View Decklist</a></td>,\n",
       " <td>$679</td>,\n",
       " <td>Angel</td>,\n",
       " <td></td>,\n",
       " <td><span><img alt=\"Salt Score\" class=\"DecksTable_image__23nZf\" src=\"data:image/png;base64,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\" title=\"Salt Score\"/>17.67</span></td>,\n",
       " <td><span><img alt=\"Creature\" class=\"DecksTable_image__23nZf\" src=\"/static/media/creature.b771f4a0.svg\" title=\"Creature\"/>27</span></td>,\n",
       " <td><span><img alt=\"Instant\" class=\"DecksTable_image__23nZf\" src=\"/static/media/instant.039e2acd.svg\" title=\"Instant\"/>7</span></td>,\n",
       " <td><span><img alt=\"Sorcery\" class=\"DecksTable_image__23nZf\" src=\"/static/media/sorcery.1f289386.svg\" title=\"Sorcery\"/>5</span></td>,\n",
       " <td><span><img alt=\"Artifact\" class=\"DecksTable_image__23nZf\" src=\"/static/media/artifact.9a44ec3e.svg\" title=\"Artifact\"/>21</span></td>,\n",
       " <td><span><img alt=\"Enchantment\" class=\"DecksTable_image__23nZf\" src=\"/static/media/enchantment.df276914.svg\" title=\"Enchantment\"/>5</span></td>,\n",
       " <td><span><img alt=\"Planeswalker\" class=\"DecksTable_image__23nZf\" src=\"/static/media/planeswalker.14ccef1a.svg\" title=\"Planeswalker\"/>1</span></td>,\n",
       " <td>2022-08-03</td>,\n",
       " <td><a href=\"/deckpreview/YCmZEcTeNFUgGYviDaMnPA\">View Decklist</a></td>,\n",
       " <td>$871</td>,\n",
       " <td>Angel</td>,\n",
       " <td>Lifegain</td>,\n",
       " <td><span><img alt=\"Salt Score\" class=\"DecksTable_image__23nZf\" src=\"data:image/png;base64,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\" title=\"Salt Score\"/>25.86</span></td>,\n",
       " <td><span><img alt=\"Creature\" class=\"DecksTable_image__23nZf\" src=\"/static/media/creature.b771f4a0.svg\" title=\"Creature\"/>30</span></td>,\n",
       " <td><span><img alt=\"Instant\" class=\"DecksTable_image__23nZf\" src=\"/static/media/instant.039e2acd.svg\" title=\"Instant\"/>7</span></td>,\n",
       " <td><span><img alt=\"Sorcery\" class=\"DecksTable_image__23nZf\" src=\"/static/media/sorcery.1f289386.svg\" title=\"Sorcery\"/>5</span></td>,\n",
       " <td><span><img alt=\"Artifact\" class=\"DecksTable_image__23nZf\" src=\"/static/media/artifact.9a44ec3e.svg\" title=\"Artifact\"/>14</span></td>,\n",
       " <td><span><img alt=\"Enchantment\" class=\"DecksTable_image__23nZf\" src=\"/static/media/enchantment.df276914.svg\" title=\"Enchantment\"/>9</span></td>,\n",
       " <td><span><img alt=\"Planeswalker\" class=\"DecksTable_image__23nZf\" src=\"/static/media/planeswalker.14ccef1a.svg\" title=\"Planeswalker\"/>0</span></td>,\n",
       " <td>2022-08-03</td>,\n",
       " <td><a href=\"/deckpreview/6VRVCVuJproCaDO3cu_NGg\">View Decklist</a></td>,\n",
       " <td>$785</td>,\n",
       " <td>Angel</td>,\n",
       " <td>Lifegain</td>,\n",
       " <td><span><img alt=\"Salt Score\" class=\"DecksTable_image__23nZf\" src=\"data:image/png;base64,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\" title=\"Salt Score\"/>25.79</span></td>,\n",
       " <td><span><img alt=\"Creature\" class=\"DecksTable_image__23nZf\" src=\"/static/media/creature.b771f4a0.svg\" title=\"Creature\"/>33</span></td>,\n",
       " <td><span><img alt=\"Instant\" class=\"DecksTable_image__23nZf\" src=\"/static/media/instant.039e2acd.svg\" title=\"Instant\"/>8</span></td>,\n",
       " <td><span><img alt=\"Sorcery\" class=\"DecksTable_image__23nZf\" src=\"/static/media/sorcery.1f289386.svg\" title=\"Sorcery\"/>5</span></td>,\n",
       " <td><span><img alt=\"Artifact\" class=\"DecksTable_image__23nZf\" src=\"/static/media/artifact.9a44ec3e.svg\" title=\"Artifact\"/>13</span></td>,\n",
       " <td><span><img alt=\"Enchantment\" class=\"DecksTable_image__23nZf\" src=\"/static/media/enchantment.df276914.svg\" title=\"Enchantment\"/>8</span></td>,\n",
       " <td><span><img alt=\"Planeswalker\" class=\"DecksTable_image__23nZf\" src=\"/static/media/planeswalker.14ccef1a.svg\" title=\"Planeswalker\"/>1</span></td>,\n",
       " <td>2022-08-03</td>]"
      ]
     },
     "execution_count": 23,
     "metadata": {},
     "output_type": "execute_result"
    }
   ],
   "source": [
    "soup_commander.findAll(\"td\")"
   ]
  },
  {
   "cell_type": "code",
   "execution_count": null,
   "metadata": {},
   "outputs": [],
   "source": []
  }
 ],
 "metadata": {
  "kernelspec": {
   "display_name": "Python 3.10.4 ('mtg-project')",
   "language": "python",
   "name": "python3"
  },
  "language_info": {
   "codemirror_mode": {
    "name": "ipython",
    "version": 3
   },
   "file_extension": ".py",
   "mimetype": "text/x-python",
   "name": "python",
   "nbconvert_exporter": "python",
   "pygments_lexer": "ipython3",
   "version": "3.10.4"
  },
  "orig_nbformat": 4,
  "vscode": {
   "interpreter": {
    "hash": "1804d17897e622be3fa7cdd50431dd95b9465a9e23e582731446dbf8130f0af7"
   }
  }
 },
 "nbformat": 4,
 "nbformat_minor": 2
}
