{
 "cells": [
  {
   "cell_type": "markdown",
   "metadata": {},
   "source": [
    "# Part I: Scraping MTG Card Decks\n"
   ]
  },
  {
   "cell_type": "code",
   "execution_count": 2,
   "metadata": {},
   "outputs": [],
   "source": [
    "from bs4 import BeautifulSoup as bs\n",
    "from selenium import webdriver\n",
    "import re\n",
    "import time\n",
    "import pandas as pd\n",
    "import mtgutilities as mtgu\n",
    "import json\n",
    "from selenium.webdriver.common.by import By\n",
    "from selenium.common.exceptions import StaleElementReferenceException\n",
    "from selenium.webdriver.chrome.options import Options\n",
    "import requests"
   ]
  },
  {
   "cell_type": "code",
   "execution_count": 3,
   "metadata": {},
   "outputs": [],
   "source": [
    "with open('config.json', 'r') as config_file:\n",
    "    contents = json.loads(config_file.read())"
   ]
  },
  {
   "cell_type": "markdown",
   "metadata": {},
   "source": [
    "### Scraping deck URLs and metadata"
   ]
  },
  {
   "cell_type": "code",
   "execution_count": 23,
   "metadata": {},
   "outputs": [
    {
     "ename": "WebDriverException",
     "evalue": "Message: unknown error: cannot create temp dir for user data dir\n",
     "output_type": "error",
     "traceback": [
      "\u001b[0;31m---------------------------------------------------------------------------\u001b[0m",
      "\u001b[0;31mWebDriverException\u001b[0m                        Traceback (most recent call last)",
      "\u001b[1;32m/Users/gatito/mtg-deck-generator/00-02_ScrapingCommanderDecks.ipynb Cell 5\u001b[0m in \u001b[0;36m<cell line: 9>\u001b[0;34m()\u001b[0m\n\u001b[1;32m     <a href='vscode-notebook-cell:/Users/gatito/mtg-deck-generator/00-02_ScrapingCommanderDecks.ipynb#W4sZmlsZQ%3D%3D?line=41'>42</a>\u001b[0m opts \u001b[39m=\u001b[39m Options()\n\u001b[1;32m     <a href='vscode-notebook-cell:/Users/gatito/mtg-deck-generator/00-02_ScrapingCommanderDecks.ipynb#W4sZmlsZQ%3D%3D?line=42'>43</a>\u001b[0m opts\u001b[39m.\u001b[39madd_argument(\u001b[39m\"\u001b[39m\u001b[39m--incognito\u001b[39m\u001b[39m\"\u001b[39m)\n\u001b[0;32m---> <a href='vscode-notebook-cell:/Users/gatito/mtg-deck-generator/00-02_ScrapingCommanderDecks.ipynb#W4sZmlsZQ%3D%3D?line=43'>44</a>\u001b[0m driver \u001b[39m=\u001b[39m webdriver\u001b[39m.\u001b[39;49mChrome(contents[\u001b[39m\"\u001b[39;49m\u001b[39mchrome-driver-location\u001b[39;49m\u001b[39m\"\u001b[39;49m], options\u001b[39m=\u001b[39;49mopts)\n\u001b[1;32m     <a href='vscode-notebook-cell:/Users/gatito/mtg-deck-generator/00-02_ScrapingCommanderDecks.ipynb#W4sZmlsZQ%3D%3D?line=44'>45</a>\u001b[0m driver\u001b[39m.\u001b[39mget(\u001b[39mf\u001b[39m\u001b[39m\"\u001b[39m\u001b[39m{\u001b[39;00mURL\u001b[39m}\u001b[39;00m\u001b[39mdecks/\u001b[39m\u001b[39m{\u001b[39;00mcommander[\u001b[39m11\u001b[39m:]\u001b[39m}\u001b[39;00m\u001b[39m\"\u001b[39m)\n\u001b[1;32m     <a href='vscode-notebook-cell:/Users/gatito/mtg-deck-generator/00-02_ScrapingCommanderDecks.ipynb#W4sZmlsZQ%3D%3D?line=45'>46</a>\u001b[0m a \u001b[39m=\u001b[39m driver\u001b[39m.\u001b[39mpage_source\n",
      "File \u001b[0;32m/opt/anaconda3/envs/mtg-project/lib/python3.10/site-packages/selenium/webdriver/chrome/webdriver.py:76\u001b[0m, in \u001b[0;36mWebDriver.__init__\u001b[0;34m(self, executable_path, port, options, service_args, desired_capabilities, service_log_path, chrome_options, keep_alive)\u001b[0m\n\u001b[1;32m     73\u001b[0m \u001b[39mself\u001b[39m\u001b[39m.\u001b[39mservice\u001b[39m.\u001b[39mstart()\n\u001b[1;32m     75\u001b[0m \u001b[39mtry\u001b[39;00m:\n\u001b[0;32m---> 76\u001b[0m     RemoteWebDriver\u001b[39m.\u001b[39;49m\u001b[39m__init__\u001b[39;49m(\n\u001b[1;32m     77\u001b[0m         \u001b[39mself\u001b[39;49m,\n\u001b[1;32m     78\u001b[0m         command_executor\u001b[39m=\u001b[39;49mChromeRemoteConnection(\n\u001b[1;32m     79\u001b[0m             remote_server_addr\u001b[39m=\u001b[39;49m\u001b[39mself\u001b[39;49m\u001b[39m.\u001b[39;49mservice\u001b[39m.\u001b[39;49mservice_url,\n\u001b[1;32m     80\u001b[0m             keep_alive\u001b[39m=\u001b[39;49mkeep_alive),\n\u001b[1;32m     81\u001b[0m         desired_capabilities\u001b[39m=\u001b[39;49mdesired_capabilities)\n\u001b[1;32m     82\u001b[0m \u001b[39mexcept\u001b[39;00m \u001b[39mException\u001b[39;00m:\n\u001b[1;32m     83\u001b[0m     \u001b[39mself\u001b[39m\u001b[39m.\u001b[39mquit()\n",
      "File \u001b[0;32m/opt/anaconda3/envs/mtg-project/lib/python3.10/site-packages/selenium/webdriver/remote/webdriver.py:157\u001b[0m, in \u001b[0;36mWebDriver.__init__\u001b[0;34m(self, command_executor, desired_capabilities, browser_profile, proxy, keep_alive, file_detector, options)\u001b[0m\n\u001b[1;32m    154\u001b[0m \u001b[39mif\u001b[39;00m browser_profile \u001b[39mis\u001b[39;00m \u001b[39mnot\u001b[39;00m \u001b[39mNone\u001b[39;00m:\n\u001b[1;32m    155\u001b[0m     warnings\u001b[39m.\u001b[39mwarn(\u001b[39m\"\u001b[39m\u001b[39mPlease use FirefoxOptions to set browser profile\u001b[39m\u001b[39m\"\u001b[39m,\n\u001b[1;32m    156\u001b[0m                   \u001b[39mDeprecationWarning\u001b[39;00m, stacklevel\u001b[39m=\u001b[39m\u001b[39m2\u001b[39m)\n\u001b[0;32m--> 157\u001b[0m \u001b[39mself\u001b[39;49m\u001b[39m.\u001b[39;49mstart_session(capabilities, browser_profile)\n\u001b[1;32m    158\u001b[0m \u001b[39mself\u001b[39m\u001b[39m.\u001b[39m_switch_to \u001b[39m=\u001b[39m SwitchTo(\u001b[39mself\u001b[39m)\n\u001b[1;32m    159\u001b[0m \u001b[39mself\u001b[39m\u001b[39m.\u001b[39m_mobile \u001b[39m=\u001b[39m Mobile(\u001b[39mself\u001b[39m)\n",
      "File \u001b[0;32m/opt/anaconda3/envs/mtg-project/lib/python3.10/site-packages/selenium/webdriver/remote/webdriver.py:252\u001b[0m, in \u001b[0;36mWebDriver.start_session\u001b[0;34m(self, capabilities, browser_profile)\u001b[0m\n\u001b[1;32m    249\u001b[0m w3c_caps \u001b[39m=\u001b[39m _make_w3c_caps(capabilities)\n\u001b[1;32m    250\u001b[0m parameters \u001b[39m=\u001b[39m {\u001b[39m\"\u001b[39m\u001b[39mcapabilities\u001b[39m\u001b[39m\"\u001b[39m: w3c_caps,\n\u001b[1;32m    251\u001b[0m               \u001b[39m\"\u001b[39m\u001b[39mdesiredCapabilities\u001b[39m\u001b[39m\"\u001b[39m: capabilities}\n\u001b[0;32m--> 252\u001b[0m response \u001b[39m=\u001b[39m \u001b[39mself\u001b[39;49m\u001b[39m.\u001b[39;49mexecute(Command\u001b[39m.\u001b[39;49mNEW_SESSION, parameters)\n\u001b[1;32m    253\u001b[0m \u001b[39mif\u001b[39;00m \u001b[39m'\u001b[39m\u001b[39msessionId\u001b[39m\u001b[39m'\u001b[39m \u001b[39mnot\u001b[39;00m \u001b[39min\u001b[39;00m response:\n\u001b[1;32m    254\u001b[0m     response \u001b[39m=\u001b[39m response[\u001b[39m'\u001b[39m\u001b[39mvalue\u001b[39m\u001b[39m'\u001b[39m]\n",
      "File \u001b[0;32m/opt/anaconda3/envs/mtg-project/lib/python3.10/site-packages/selenium/webdriver/remote/webdriver.py:321\u001b[0m, in \u001b[0;36mWebDriver.execute\u001b[0;34m(self, driver_command, params)\u001b[0m\n\u001b[1;32m    319\u001b[0m response \u001b[39m=\u001b[39m \u001b[39mself\u001b[39m\u001b[39m.\u001b[39mcommand_executor\u001b[39m.\u001b[39mexecute(driver_command, params)\n\u001b[1;32m    320\u001b[0m \u001b[39mif\u001b[39;00m response:\n\u001b[0;32m--> 321\u001b[0m     \u001b[39mself\u001b[39;49m\u001b[39m.\u001b[39;49merror_handler\u001b[39m.\u001b[39;49mcheck_response(response)\n\u001b[1;32m    322\u001b[0m     response[\u001b[39m'\u001b[39m\u001b[39mvalue\u001b[39m\u001b[39m'\u001b[39m] \u001b[39m=\u001b[39m \u001b[39mself\u001b[39m\u001b[39m.\u001b[39m_unwrap_value(\n\u001b[1;32m    323\u001b[0m         response\u001b[39m.\u001b[39mget(\u001b[39m'\u001b[39m\u001b[39mvalue\u001b[39m\u001b[39m'\u001b[39m, \u001b[39mNone\u001b[39;00m))\n\u001b[1;32m    324\u001b[0m     \u001b[39mreturn\u001b[39;00m response\n",
      "File \u001b[0;32m/opt/anaconda3/envs/mtg-project/lib/python3.10/site-packages/selenium/webdriver/remote/errorhandler.py:242\u001b[0m, in \u001b[0;36mErrorHandler.check_response\u001b[0;34m(self, response)\u001b[0m\n\u001b[1;32m    240\u001b[0m         alert_text \u001b[39m=\u001b[39m value[\u001b[39m'\u001b[39m\u001b[39malert\u001b[39m\u001b[39m'\u001b[39m]\u001b[39m.\u001b[39mget(\u001b[39m'\u001b[39m\u001b[39mtext\u001b[39m\u001b[39m'\u001b[39m)\n\u001b[1;32m    241\u001b[0m     \u001b[39mraise\u001b[39;00m exception_class(message, screen, stacktrace, alert_text)\n\u001b[0;32m--> 242\u001b[0m \u001b[39mraise\u001b[39;00m exception_class(message, screen, stacktrace)\n",
      "\u001b[0;31mWebDriverException\u001b[0m: Message: unknown error: cannot create temp dir for user data dir\n"
     ]
    }
   ],
   "source": [
    "URL = 'https://edhrec.com/'\n",
    "COLORS = ['w', 'u', 'b', 'g', 'r', 'colorless', 'wu', 'ub', 'br', 'rg', 'gw', 'wb', 'ur', 'bg', 'rw', 'gu', 'wub', 'ubr',\n",
    "    'brg', 'rgw', 'gwu', 'wbg', 'uwr', 'bgu', 'rwb', 'gur', 'wubr', 'ubrg', 'brgw', 'rgwu', 'gwub', 'wubrg']\n",
    "colors_urls = [f\"{URL}commanders/{color}\" for color in COLORS]\n",
    "\n",
    "commander_colors = {}\n",
    "commanders = {}\n",
    "decks = {}\n",
    "for commander_color_url in colors_urls[17:]:\n",
    "    commander_list = []\n",
    "\n",
    "    # Enter each commander color site, click Text View\n",
    "    chrome_options = webdriver.ChromeOptions()\n",
    "    opts = Options()\n",
    "    opts.add_argument(\"--incognito\")\n",
    "    driver = webdriver.Chrome(contents[\"chrome-driver-location\"], options=opts)\n",
    "    driver.get(commander_color_url)\n",
    "    mtgu.click_element_in_href(driver, 'Text View')\n",
    "    time.sleep(2)\n",
    "\n",
    "    # Clicking Read More to reveal all commanders\n",
    "    elements = driver.find_elements(By.CSS_SELECTOR, \"button.btn.btn-primary\")\n",
    "    while len(elements)>1:\n",
    "        try:\n",
    "            element = driver.find_elements(By.CSS_SELECTOR, \"button.btn.btn-primary\")[1]\n",
    "            element.click()\n",
    "            time.sleep(2)\n",
    "        except IndexError:\n",
    "            break\n",
    "    \n",
    "    # Scraping Commander names\n",
    "    a = driver.page_source\n",
    "    soup = bs(a, features=\"html.parser\")\n",
    "    for c in soup.find_all('a', href=True):\n",
    "        if f\"/commanders/\" in c[\"href\"]:\n",
    "            commander_list.append(c['href'][1:])\n",
    "    \n",
    "    decks = {}\n",
    "    # Scraping all deck URLs for each commander\n",
    "    for commander in commander_list:\n",
    "        chrome_options = webdriver.ChromeOptions()\n",
    "        opts = Options()\n",
    "        opts.add_argument(\"--incognito\")\n",
    "        driver = webdriver.Chrome(contents[\"chrome-driver-location\"], options=opts)\n",
    "        driver.get(f\"{URL}decks/{commander[11:]}\")\n",
    "        a = driver.page_source\n",
    "        soup_commander = bs(a, features=\"html.parser\")\n",
    "        \n",
    "        while True:\n",
    "            a = driver.page_source\n",
    "            soup_commander = bs(a, features=\"html.parser\")\n",
    "            for a in soup_commander.find_all('a', href=True):\n",
    "                if '/deckpreview/' in a[\"href\"]:\n",
    "                    deck_id = a[\"href\"]\n",
    "                    deck_data = {}\n",
    "                    for b in soup_commander.find_all(\"td\"):\n",
    "                        if deck_id in str(b):\n",
    "                            deck_data['price'] = b.findNextSibling().text\n",
    "                            deck_data['tribe'] = b.findNextSibling().findNextSibling().text\n",
    "                            deck_data['theme'] = b.findNextSibling().findNextSibling().findNextSibling().text\n",
    "                            decks[deck_id] = deck_data\n",
    "            \n",
    "            if mtgu.check_exists_by_xpath(driver, \"//a[contains(text(), 'Next')]\"):\n",
    "                element = driver.find_element(By.XPATH, \"//a[contains(text(), 'Next')]\")\n",
    "                driver.execute_script('arguments[0].scrollIntoView();', element)\n",
    "                driver.execute_script('window.scrollBy(0, -200);')\n",
    "                element.click()\n",
    "            else:\n",
    "                break\n",
    "        commanders[commander] = decks\n",
    "    driver.close()\n",
    "    commander_colors[commander_color_url] = commanders"
   ]
  },
  {
   "cell_type": "code",
   "execution_count": 19,
   "metadata": {},
   "outputs": [],
   "source": [
    "import gzip\n",
    "import json\n",
    "with gzip.open('commanders_deckurls2.json.gz', 'wt', encoding=\"ascii\") as zipfile:\n",
    "       json.dump(commander_colors, zipfile)"
   ]
  },
  {
   "cell_type": "code",
   "execution_count": 8,
   "metadata": {},
   "outputs": [],
   "source": [
    "with open('my_dict.json') as f:\n",
    "    my_dict = json.load(f)"
   ]
  },
  {
   "cell_type": "code",
   "execution_count": 21,
   "metadata": {},
   "outputs": [
    {
     "data": {
      "text/plain": [
       "['https://edhrec.com/commanders/w',\n",
       " 'https://edhrec.com/commanders/u',\n",
       " 'https://edhrec.com/commanders/b',\n",
       " 'https://edhrec.com/commanders/g',\n",
       " 'https://edhrec.com/commanders/r',\n",
       " 'https://edhrec.com/commanders/colorless',\n",
       " 'https://edhrec.com/commanders/wu',\n",
       " 'https://edhrec.com/commanders/ub',\n",
       " 'https://edhrec.com/commanders/br',\n",
       " 'https://edhrec.com/commanders/rg',\n",
       " 'https://edhrec.com/commanders/gw',\n",
       " 'https://edhrec.com/commanders/wb',\n",
       " 'https://edhrec.com/commanders/ur',\n",
       " 'https://edhrec.com/commanders/bg',\n",
       " 'https://edhrec.com/commanders/rw',\n",
       " 'https://edhrec.com/commanders/gu',\n",
       " 'https://edhrec.com/commanders/wub',\n",
       " 'https://edhrec.com/commanders/ubrbrg',\n",
       " 'https://edhrec.com/commanders/rgw',\n",
       " 'https://edhrec.com/commanders/gwu',\n",
       " 'https://edhrec.com/commanders/wbg',\n",
       " 'https://edhrec.com/commanders/uwr',\n",
       " 'https://edhrec.com/commanders/bgu',\n",
       " 'https://edhrec.com/commanders/rwb',\n",
       " 'https://edhrec.com/commanders/gur',\n",
       " 'https://edhrec.com/commanders/wubr',\n",
       " 'https://edhrec.com/commanders/ubrg',\n",
       " 'https://edhrec.com/commanders/brgw',\n",
       " 'https://edhrec.com/commanders/rgwu',\n",
       " 'https://edhrec.com/commanders/gwub',\n",
       " 'https://edhrec.com/commanders/wubrg']"
      ]
     },
     "execution_count": 21,
     "metadata": {},
     "output_type": "execute_result"
    }
   ],
   "source": [
    "colors_urls"
   ]
  },
  {
   "cell_type": "code",
   "execution_count": null,
   "metadata": {},
   "outputs": [],
   "source": []
  }
 ],
 "metadata": {
  "kernelspec": {
   "display_name": "Python 3.10.4 ('mtg-project')",
   "language": "python",
   "name": "python3"
  },
  "language_info": {
   "codemirror_mode": {
    "name": "ipython",
    "version": 3
   },
   "file_extension": ".py",
   "mimetype": "text/x-python",
   "name": "python",
   "nbconvert_exporter": "python",
   "pygments_lexer": "ipython3",
   "version": "3.10.4"
  },
  "orig_nbformat": 4,
  "vscode": {
   "interpreter": {
    "hash": "1804d17897e622be3fa7cdd50431dd95b9465a9e23e582731446dbf8130f0af7"
   }
  }
 },
 "nbformat": 4,
 "nbformat_minor": 2
}
