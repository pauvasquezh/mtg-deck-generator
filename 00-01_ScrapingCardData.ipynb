{
 "cells": [
  {
   "cell_type": "markdown",
   "metadata": {},
   "source": [
    "# Part I: Scraping MTG Cards\n"
   ]
  },
  {
   "cell_type": "markdown",
   "metadata": {},
   "source": [
    "For this project, I will be scraping the information available on the Card Kingdom website regarding Magic the Gathering cards."
   ]
  },
  {
   "cell_type": "code",
   "execution_count": 2,
   "metadata": {},
   "outputs": [],
   "source": [
    "from bs4 import BeautifulSoup as bs\n",
    "from selenium import webdriver\n",
    "import re\n",
    "import time\n",
    "import pandas as pd\n",
    "import mtgutilities as mtgu\n",
    "import json"
   ]
  },
  {
   "cell_type": "code",
   "execution_count": 12,
   "metadata": {},
   "outputs": [],
   "source": [
    "with open('config.json', 'r') as config_file:\n",
    "    contents = json.loads(config_file.read())"
   ]
  },
  {
   "cell_type": "markdown",
   "metadata": {},
   "source": [
    "### Getting all of the expansion URLs"
   ]
  },
  {
   "cell_type": "code",
   "execution_count": 9,
   "metadata": {},
   "outputs": [],
   "source": [
    "soup = mtgu.get_soup_from_website(\"https://www.cardkingdom.com/catalog/magic_the_gathering/by_az\")\n",
    "expansions = dict()\n",
    "for a in soup.find_all('a', href=True):\n",
    "        urls = dict()\n",
    "        if 'mtg/' in a['href'] and 'art-series' not in a['href'] and 'graded-magic' \\\n",
    "        not in a['href'] and 'complete-sets' not in a['href'] and 'commander-deck' not in a['href'] \\\n",
    "        and 'card-kingdom-tokens' not in a['href'] and 'variants' not in a['href'] \\\n",
    "        and 'starter-kits' not in a['href'] and 'jpn' not in a['href']:\n",
    "            \n",
    "            urls[\"url\"] = f\"https://www.cardkingdom.com{a['href']}\"\n",
    "            expansions[a.string.replace(' ', '-').replace('---','-').replace(':','')\\\n",
    "                .replace('&','').replace('.','').replace(\"'\", \"\").replace('--','-').replace('/','-').lower()] = urls"
   ]
  },
  {
   "cell_type": "code",
   "execution_count": 11,
   "metadata": {},
   "outputs": [],
   "source": [
    "expansions_df = pd.DataFrame()\n",
    "for expansion_key, expansion_values in expansions.items():\n",
    "    # Obtaining number of pages to scrape per expansion\n",
    "    soup = mtgu.get_soup_from_website(expansion_values.get(\"url\"))\n",
    "    max_pages = mtgu.get_max_pages(soup)\n",
    "\n",
    "    # Scraping page by page\n",
    "    driver_pages = webdriver.Chrome(contents[\"chrome-driver-location\"])\n",
    "    \n",
    "    card_names, card_costs, card_converted_costs, card_type, \\\n",
    "        card_urls, card_rarity, card_pt, card_text = list(), list(), list(), list(), list(), list(), list(), list()\n",
    "\n",
    "    for i in range(1,max_pages+1):\n",
    "            driver_pages.get(f\"{expansion_values.get('url')}/?page={str(i)}\")\n",
    "            soup_pages = bs(driver_pages.page_source, 'html.parser')\n",
    "            \n",
    "            # Getting card URLs\n",
    "            card_urls += mtgu.get_card_urls(soup_pages, expansion_key)\n",
    "            # Getting card names\n",
    "            card_names += mtgu.get_card_names(soup_pages, expansion_key)\n",
    "            # Getting mana costs\n",
    "            card_costs += mtgu.get_mana_cost(soup_pages)\n",
    "            # Getting converted mana cost\n",
    "            card_converted_costs = mtgu.get_converted_mana_cost(card_costs)\n",
    "            # Getting card type\n",
    "            card_type += mtgu.get_card_type(soup_pages)\n",
    "            # Getting card rarity\n",
    "            card_rarity += mtgu.get_card_rarity(soup_pages)\n",
    "            # Getting card P/T\n",
    "            card_pt += mtgu.get_card_pt(soup_pages)\n",
    "            # Getting card text\n",
    "            card_text += mtgu.get_card_text(soup_pages)\n",
    "            time.sleep(3)\n",
    "    df = pd.DataFrame(\n",
    "    {'expansion': expansion_key,\n",
    "     'url': card_urls,\n",
    "     'name': card_names,\n",
    "     'cost': card_costs,\n",
    "     'converted_cost': card_converted_costs,\n",
    "     'type': card_type,\n",
    "     'rarity': card_rarity,\n",
    "     'pt': card_pt,\n",
    "     'text': card_text\n",
    "    })\n",
    "    \n",
    "    expansions_df = pd.concat([expansions_df, df],axis=0) \n",
    "    expansions_df.to_csv(f\"{contents['card-folder']}/cards.csv\")          "
   ]
  },
  {
   "cell_type": "code",
   "execution_count": null,
   "metadata": {},
   "outputs": [],
   "source": []
  }
 ],
 "metadata": {
  "kernelspec": {
   "display_name": "Python 3.10.4 ('mtg-project')",
   "language": "python",
   "name": "python3"
  },
  "language_info": {
   "codemirror_mode": {
    "name": "ipython",
    "version": 3
   },
   "file_extension": ".py",
   "mimetype": "text/x-python",
   "name": "python",
   "nbconvert_exporter": "python",
   "pygments_lexer": "ipython3",
   "version": "3.10.4"
  },
  "orig_nbformat": 4,
  "vscode": {
   "interpreter": {
    "hash": "1804d17897e622be3fa7cdd50431dd95b9465a9e23e582731446dbf8130f0af7"
   }
  }
 },
 "nbformat": 4,
 "nbformat_minor": 2
}
