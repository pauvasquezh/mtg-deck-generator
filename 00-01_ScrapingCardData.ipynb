{
 "cells": [
  {
   "cell_type": "markdown",
   "metadata": {},
   "source": [
    "# Part I: Scraping MTG Cards\n"
   ]
  },
  {
   "cell_type": "markdown",
   "metadata": {},
   "source": [
    "For this project, I will be scraping the information available on the Card Kingdom website regarding Magic the Gathering cards."
   ]
  },
  {
   "cell_type": "code",
   "execution_count": 1,
   "metadata": {},
   "outputs": [],
   "source": [
    "from bs4 import BeautifulSoup as bs\n",
    "from selenium import webdriver\n",
    "import re\n",
    "import time\n",
    "import pandas as pd\n",
    "import mtgutilities as mtgu\n",
    "import json"
   ]
  },
  {
   "cell_type": "code",
   "execution_count": 2,
   "metadata": {},
   "outputs": [],
   "source": [
    "with open('config.json', 'r') as config_file:\n",
    "    contents = json.loads(config_file.read())"
   ]
  },
  {
   "cell_type": "markdown",
   "metadata": {},
   "source": [
    "### Getting all of the expansion URLs"
   ]
  },
  {
   "cell_type": "code",
   "execution_count": 3,
   "metadata": {},
   "outputs": [],
   "source": [
    "soup = mtgu.get_soup_from_website(\"https://www.cardkingdom.com/catalog/magic_the_gathering/by_az\", options=True)\n",
    "expansions = dict()\n",
    "for a in soup.find_all('a', href=True):\n",
    "        urls = dict()\n",
    "        if 'mtg/' in a['href'] and 'art-series' not in a['href'] and 'graded-magic' \\\n",
    "        not in a['href'] and 'complete-sets' not in a['href'] and 'commander-deck' not in a['href'] \\\n",
    "        and 'card-kingdom-tokens' not in a['href'] and 'variants' not in a['href'] \\\n",
    "        and 'starter-kits' not in a['href'] and 'jpn' not in a['href']:\n",
    "            \n",
    "            urls[\"url\"] = f\"https://www.cardkingdom.com{a['href']}\"\n",
    "            expansions[a.string.replace(' ', '-').replace('---','-').replace(':','')\\\n",
    "                .replace('&','').replace('.','').replace(\"'\", \"\").replace('--','-').replace('/','-').lower()] = urls"
   ]
  },
  {
   "cell_type": "code",
   "execution_count": 4,
   "metadata": {},
   "outputs": [],
   "source": [
    "expansions = {\n",
    " 'promotional': {'url': 'https://www.cardkingdom.com/mtg/promotional'},\n",
    " 'prophecy': {'url': 'https://www.cardkingdom.com/mtg/prophecy'},\n",
    " 'ravnica': {'url': 'https://www.cardkingdom.com/mtg/ravnica'},\n",
    " 'ravnica-allegiance': {'url': 'https://www.cardkingdom.com/mtg/ravnica-allegiance'},\n",
    " 'ravnica-allegiance-guild-kits': {'url': 'https://www.cardkingdom.com/mtg/ravnica-allegiance-guild-kits'},\n",
    " 'return-to-ravnica': {'url': 'https://www.cardkingdom.com/mtg/return-to-ravnica'},\n",
    " 'rise-of-the-eldrazi': {'url': 'https://www.cardkingdom.com/mtg/rise-of-the-eldrazi'},\n",
    " 'rivals-of-ixalan': {'url': 'https://www.cardkingdom.com/mtg/rivals-of-ixalan'},\n",
    " 'saviors-of-kamigawa': {'url': 'https://www.cardkingdom.com/mtg/saviors-of-kamigawa'},\n",
    " 'scars-of-mirrodin': {'url': 'https://www.cardkingdom.com/mtg/scars-of-mirrodin'},\n",
    " 'scourge': {'url': 'https://www.cardkingdom.com/mtg/scourge'},\n",
    " 'secret-lair': {'url': 'https://www.cardkingdom.com/mtg/secret-lair'},\n",
    " 'shadowmoor': {'url': 'https://www.cardkingdom.com/mtg/shadowmoor'},\n",
    " 'shadows-over-innistrad': {'url': 'https://www.cardkingdom.com/mtg/shadows-over-innistrad'},\n",
    " 'shards-of-alara': {'url': 'https://www.cardkingdom.com/mtg/shards-of-alara'},\n",
    " 'signature-spellbook-chandra': {'url': 'https://www.cardkingdom.com/mtg/signature-spellbook-chandra'},\n",
    " 'signature-spellbook-gideon': {'url': 'https://www.cardkingdom.com/mtg/signature-spellbook-gideon'},\n",
    " 'signature-spellbook-jace': {'url': 'https://www.cardkingdom.com/mtg/signature-spellbook-jace'},\n",
    " 'starter-1999': {'url': 'https://www.cardkingdom.com/mtg/starter-1999'},\n",
    " 'starter-2000': {'url': 'https://www.cardkingdom.com/mtg/starter-2000'},\n",
    " 'streets-of-new-capenna': {'url': 'https://www.cardkingdom.com/mtg/streets-of-new-capenna'},\n",
    " 'strixhaven-mystical-archive': {'url': 'https://www.cardkingdom.com/mtg/strixhaven-mystical-archive'},\n",
    " 'strixhaven-school-of-mages': {'url': 'https://www.cardkingdom.com/mtg/strixhaven-school-of-mages'},\n",
    " 'stronghold': {'url': 'https://www.cardkingdom.com/mtg/stronghold'},\n",
    " 'tempest': {'url': 'https://www.cardkingdom.com/mtg/tempest'},\n",
    " 'the-dark': {'url': 'https://www.cardkingdom.com/mtg/the-dark'},\n",
    " 'theros': {'url': 'https://www.cardkingdom.com/mtg/theros'},\n",
    " 'theros-beyond-death': {'url': 'https://www.cardkingdom.com/mtg/theros-beyond-death'},\n",
    " 'throne-of-eldraine': {'url': 'https://www.cardkingdom.com/mtg/throne-of-eldraine'},\n",
    " 'time-spiral': {'url': 'https://www.cardkingdom.com/mtg/time-spiral'},\n",
    " 'time-spiral-remastered': {'url': 'https://www.cardkingdom.com/mtg/time-spiral-remastered'},\n",
    " 'timeshifted': {'url': 'https://www.cardkingdom.com/mtg/timeshifted'},\n",
    " 'torment': {'url': 'https://www.cardkingdom.com/mtg/torment'},\n",
    " 'ultimate-box-topper': {'url': 'https://www.cardkingdom.com/mtg/ultimate-box-topper'},\n",
    " 'ultimate-masters': {'url': 'https://www.cardkingdom.com/mtg/ultimate-masters'},\n",
    " 'unglued': {'url': 'https://www.cardkingdom.com/mtg/unglued'},\n",
    " 'unhinged': {'url': 'https://www.cardkingdom.com/mtg/unhinged'},\n",
    " 'unlimited': {'url': 'https://www.cardkingdom.com/mtg/unlimited'},\n",
    " 'unsanctioned': {'url': 'https://www.cardkingdom.com/mtg/unsanctioned'},\n",
    " 'unstable': {'url': 'https://www.cardkingdom.com/mtg/unstable'},\n",
    " 'urzas-destiny': {'url': 'https://www.cardkingdom.com/mtg/urzas-destiny'},\n",
    " 'urzas-legacy': {'url': 'https://www.cardkingdom.com/mtg/urzas-legacy'},\n",
    " 'urzas-saga': {'url': 'https://www.cardkingdom.com/mtg/urzas-saga'},\n",
    " 'vanguard': {'url': 'https://www.cardkingdom.com/mtg/vanguard'},\n",
    " 'visions': {'url': 'https://www.cardkingdom.com/mtg/visions'},\n",
    " 'war-of-the-spark': {'url': 'https://www.cardkingdom.com/mtg/war-of-the-spark'},\n",
    " 'weatherlight': {'url': 'https://www.cardkingdom.com/mtg/weatherlight'},\n",
    " 'world-championships': {'url': 'https://www.cardkingdom.com/mtg/world-championships'},\n",
    " 'worldwake': {'url': 'https://www.cardkingdom.com/mtg/worldwake'},\n",
    " 'zendikar': {'url': 'https://www.cardkingdom.com/mtg/zendikar'},\n",
    " 'zendikar-rising': {'url': 'https://www.cardkingdom.com/mtg/zendikar-rising'},\n",
    " 'zendikar-rising-expeditions': {'url': 'https://www.cardkingdom.com/mtg/zendikar-rising-expeditions'}}"
   ]
  },
  {
   "cell_type": "code",
   "execution_count": 5,
   "metadata": {},
   "outputs": [],
   "source": [
    "for expansion_key, expansion_values in expansions.items():\n",
    "    # Obtaining number of pages to scrape per expansion\n",
    "    soup = mtgu.get_soup_from_website(expansion_values.get(\"url\"), options=True)\n",
    "    max_pages = mtgu.get_max_pages(soup)\n",
    "\n",
    "    # Scraping page by page\n",
    "    driver_pages = webdriver.Chrome(contents[\"chrome-driver-location\"])\n",
    "    \n",
    "    card_names, card_costs, card_converted_costs, card_type, \\\n",
    "        card_urls, card_rarity, card_pt, card_text, card_price = list(), list(), list(), list(), list(), list(), list(), list(), list()\n",
    "\n",
    "    for i in range(1,max_pages+1):\n",
    "            driver_pages.get(f\"{expansion_values.get('url')}/?page={str(i)}\")\n",
    "            soup_pages = bs(driver_pages.page_source, 'html.parser')\n",
    "            \n",
    "            # Getting card URLs\n",
    "            card_urls += mtgu.get_card_urls(soup_pages, expansion_key)\n",
    "            # Getting card names\n",
    "            card_names += mtgu.get_card_names(soup_pages, expansion_key)\n",
    "            # Getting mana costs\n",
    "            card_costs += mtgu.get_mana_cost(soup_pages)\n",
    "            # Getting converted mana cost\n",
    "            card_converted_costs = mtgu.get_converted_mana_cost(card_costs)\n",
    "            # Getting card type\n",
    "            card_type += mtgu.get_card_type(soup_pages)\n",
    "            # Getting card rarity\n",
    "            card_rarity += mtgu.get_card_rarity(soup_pages)\n",
    "            # Getting card P/T\n",
    "            card_pt += mtgu.get_card_pt(soup_pages)\n",
    "            # Getting card text\n",
    "            card_text += mtgu.get_card_text(soup_pages)\n",
    "            # Getting card price\n",
    "            card_price += mtgu.get_card_price(soup_pages)\n",
    "            time.sleep(3)\n",
    "\n",
    "\n",
    "    df = pd.DataFrame(\n",
    "    {'expansion_id': expansion_key,\n",
    "     'url': card_urls,\n",
    "     'name': card_names,\n",
    "     'cost': card_costs,\n",
    "     'converted_cost': card_converted_costs,\n",
    "     'type': card_type,\n",
    "     'rarity': card_rarity,\n",
    "     'pt': card_pt,\n",
    "     'text': card_text,\n",
    "     'price': card_price\n",
    "    })\n",
    "    \n",
    "    df.to_csv(f\"{contents['external-drive-location']}/cards/cards.csv\", mode='a', index=False,header=False)          "
   ]
  },
  {
   "cell_type": "code",
   "execution_count": null,
   "metadata": {},
   "outputs": [],
   "source": []
  }
 ],
 "metadata": {
  "kernelspec": {
   "display_name": "Python 3.10.4 ('mtg-project')",
   "language": "python",
   "name": "python3"
  },
  "language_info": {
   "codemirror_mode": {
    "name": "ipython",
    "version": 3
   },
   "file_extension": ".py",
   "mimetype": "text/x-python",
   "name": "python",
   "nbconvert_exporter": "python",
   "pygments_lexer": "ipython3",
   "version": "3.10.4"
  },
  "orig_nbformat": 4,
  "vscode": {
   "interpreter": {
    "hash": "1804d17897e622be3fa7cdd50431dd95b9465a9e23e582731446dbf8130f0af7"
   }
  }
 },
 "nbformat": 4,
 "nbformat_minor": 2
}
